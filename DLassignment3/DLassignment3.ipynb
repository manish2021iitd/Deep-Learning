{
  "nbformat": 4,
  "nbformat_minor": 0,
  "metadata": {
    "colab": {
      "provenance": [],
      "authorship_tag": "ABX9TyNWgcFVmece7+3ar1RZwK3H",
      "include_colab_link": true
    },
    "kernelspec": {
      "name": "python3",
      "display_name": "Python 3"
    },
    "language_info": {
      "name": "python"
    }
  },
  "cells": [
    {
      "cell_type": "markdown",
      "metadata": {
        "id": "view-in-github",
        "colab_type": "text"
      },
      "source": [
        "<a href=\"https://colab.research.google.com/github/manish2021iitd/Deep-Learning/blob/main/DLassignment3/DLassignment3.ipynb\" target=\"_parent\"><img src=\"https://colab.research.google.com/assets/colab-badge.svg\" alt=\"Open In Colab\"/></a>"
      ]
    },
    {
      "cell_type": "code",
      "execution_count": 1,
      "metadata": {
        "id": "CMvKI7MhvBxW"
      },
      "outputs": [],
      "source": [
        "import torch\n",
        "import torch.nn as nn\n",
        "\n",
        "class Seq2Seq(nn.Module):\n",
        "    def __init__(self, input_size, hidden_size, output_size, num_layers=1, cell_type='gru'):\n",
        "        super(Seq2Seq, self).__init__()\n",
        "        self.input_size = input_size\n",
        "        self.hidden_size = hidden_size\n",
        "        self.output_size = output_size\n",
        "        self.num_layers = num_layers\n",
        "        self.cell_type = cell_type\n",
        "\n",
        "        #defining the encoder\n",
        "        self.encoder = self._init_encoder()\n",
        "\n",
        "        #defining the decoder\n",
        "        self.decoder = self._init_decoder()\n",
        "\n",
        "        #defining the output layer\n",
        "        self.out = nn.Linear(hidden_size, output_size)\n",
        "\n",
        "    def _init_encoder(self):\n",
        "        if self.cell_type == 'rnn':\n",
        "            return nn.RNN(self.input_size, self.hidden_size, num_layers=self.num_layers)\n",
        "        elif self.cell_type == 'lstm':\n",
        "            return nn.LSTM(self.input_size, self.hidden_size, num_layers=self.num_layers)\n",
        "        elif self.cell_type == 'gru':\n",
        "            return nn.GRU(self.input_size, self.hidden_size, num_layers=self.num_layers)\n",
        "        else:\n",
        "            raise ValueError(\"Invalid cell_type. Choose from 'rnn', 'lstm', 'gru'.\")\n",
        "\n",
        "    def _init_decoder(self):\n",
        "        if self.cell_type == 'rnn':\n",
        "            return nn.RNN(self.input_size, self.hidden_size, num_layers=self.num_layers)\n",
        "        elif self.cell_type == 'lstm':\n",
        "            return nn.LSTM(self.input_size, self.hidden_size, num_layers=self.num_layers)\n",
        "        elif self.cell_type == 'gru':\n",
        "            return nn.GRU(self.input_size, self.hidden_size, num_layers=self.num_layers)\n",
        "        else:\n",
        "            raise ValueError(\"Invalid cell_type. Choose from 'rnn', 'lstm', 'gru'.\")\n",
        "\n",
        "    def forward(self, input_seq, target_seq):\n",
        "        #encoding input sequence\n",
        "        _, encoder_hidden = self.encoder(input_seq)\n",
        "\n",
        "        #initializing decoder input with SOS_token\n",
        "        decoder_input = torch.tensor([[SOS_token]], device=device)\n",
        "\n",
        "        decoder_hidden = encoder_hidden\n",
        "\n",
        "        #initializing tensors to store decoder outputs\n",
        "        decoder_outputs = torch.zeros(max_length, self.output_size)\n",
        "\n",
        "        #decoding output sequence one token at a time\n",
        "        for t in range(max_length):\n",
        "            decoder_output, decoder_hidden = self.decoder(decoder_input, decoder_hidden)\n",
        "            decoder_output = self.out(decoder_output)\n",
        "            decoder_outputs[t] = decoder_output.view(-1)\n",
        "            decoder_input = target_seq[t]\n",
        "\n",
        "        return decoder_outputs\n"
      ]
    }
  ]
}