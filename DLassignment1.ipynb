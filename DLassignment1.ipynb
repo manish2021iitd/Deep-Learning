{
  "cells": [
    {
      "cell_type": "markdown",
      "metadata": {
        "id": "view-in-github",
        "colab_type": "text"
      },
      "source": [
        "<a href=\"https://colab.research.google.com/github/manish2021iitd/Deep-Learning/blob/main/DLassignment1.ipynb\" target=\"_parent\"><img src=\"https://colab.research.google.com/assets/colab-badge.svg\" alt=\"Open In Colab\"/></a>"
      ]
    },
    {
      "cell_type": "code",
      "execution_count": null,
      "metadata": {
        "id": "peru7mjbMqTV"
      },
      "outputs": [],
      "source": [
        "#Q1 wa\n",
        "import matplotlib.pyplot as plt\n",
        "from keras.datasets import fashion_mnist\n",
        "\n",
        "# Load Fashion-MNIST dataset\n",
        "(training_images, training_labels), (testing_images,testing_labels) = fashion_mnist.load_data()\n",
        "\n",
        "# Plot one sample image for each class\n",
        "class_names = ['T-shirt/top', 'Trouser', 'Pullover', 'Dress', 'Coat',\n",
        "               'Sandal', 'Shirt', 'Sneaker', 'Bag', 'Ankle boot']\n",
        "\n",
        "plt.figure(figsize=(8, 3))\n",
        "for i in range(10):\n",
        "    plt.subplot(2, 5, i + 1)\n",
        "    plt.imshow(training_images[training_labels == i][0], cmap='gray')\n",
        "    plt.title(class_names[i])\n",
        "    plt.axis('off')\n",
        "plt.show()\n"
      ]
    },
    {
      "cell_type": "code",
      "execution_count": null,
      "metadata": {
        "id": "XaWViZYXMzya"
      },
      "outputs": [],
      "source": [
        "#Q2\n",
        "import numpy as np\n",
        "\n",
        "class NeuralNetwork:\n",
        "    def __init__(self, input_size, hidden_sizes, output_size):\n",
        "        self.input_size = input_size #number of inputs nodes\n",
        "        self.hidden_sizes = hidden_sizes #list of neurons in each hidden layer\n",
        "        self.output_size = output_size #number of output neurons in output layer\n",
        "        self.weights = [] #list of weight matrices for each layer\n",
        "        self.biases = []  #list of bias vectors for each hidden layer and output layer\n",
        "\n",
        "        #innitializing the weights and biases for each layer\n",
        "        sizes = [input_size] + hidden_sizes + [output_size] #using list concatination to make a list of number of nodes in each layer\n",
        "        for i in range(len(sizes) - 1):\n",
        "            self.weights.append(np.random.randn(sizes[i+1], sizes[i]))\n",
        "            self.biases.append(np.random.randn(sizes[i+1]))\n",
        "\n",
        "    def sigmoid(self, x):\n",
        "        return 1 / (1 + np.exp(-x))\n",
        "\n",
        "    def softmax(self, x):\n",
        "        exp_scores = np.exp(x - np.max(x, axis=1, keepdims=True))\n",
        "        return exp_scores / np.sum(exp_scores, axis=1, keepdims=True)\n",
        "\n",
        "    def forward(self, X):\n",
        "      # Forward pass\n",
        "      activations = [X]\n",
        "      for i in range(len(self.weights)):\n",
        "        z = np.dot(activations[-1], self.weights[i].T) + self.biases[i]  # Transpose weight matrix\n",
        "        a = self.sigmoid(z) if i < len(self.weights) - 1 else self.softmax(z)\n",
        "        activations.append(a)\n",
        "      return activations\n",
        "\n",
        "    def predict(self, X):\n",
        "        #predict output probabilities\n",
        "        activations = self.forward(X)\n",
        "        return activations[-1]\n",
        "\n",
        "#load fashion-mnist dataset\n",
        "from keras.datasets import fashion_mnist\n",
        "(X_train, y_train), (X_test, y_test) = fashion_mnist.load_data()\n",
        "\n",
        "#preprocess the data\n",
        "X_train = X_train.astype('float32') / 255.0\n",
        "X_test = X_test.astype('float32') / 255.0\n",
        "X_train = X_train.reshape(X_train.shape[0], -1)\n",
        "X_test = X_test.reshape(X_test.shape[0], -1)\n",
        "\n",
        "#define neural network\n",
        "input_size = X_train.shape[1]  #28x28 images flattened\n",
        "hidden_sizes = [128, 64]  #size of hidden layers\n",
        "output_size = 10  # 10 classes in fashion-mnist\n",
        "\n",
        "#initialize neural network\n",
        "model = NeuralNetwork(input_size, hidden_sizes, output_size)\n",
        "\n",
        "#predict probabilities for the test set\n",
        "probabilities = model.predict(X_test)\n",
        "\n",
        "#print the output probabilities\n",
        "print(\"Output Probabilities:\", probabilities)"
      ]
    },
    {
      "cell_type": "code",
      "execution_count": 121,
      "metadata": {
        "colab": {
          "base_uri": "https://localhost:8080/"
        },
        "id": "Nm7URO24NPHS",
        "outputId": "2d1f5187-f01d-4a63-cadb-c79183aafd47"
      },
      "outputs": [
        {
          "output_type": "stream",
          "name": "stdout",
          "text": [
            "The accuracy of testing is  18.16 %\n"
          ]
        }
      ],
      "source": [
        "import numpy as np\n",
        "\n",
        "class NeuralNetwork:\n",
        "    def __init__(self, input_size, hidden_sizes, output_size):\n",
        "        self.input_size = input_size\n",
        "        self.hidden_sizes = hidden_sizes\n",
        "        self.output_size = output_size\n",
        "        self.weights = []\n",
        "        self.biases = []\n",
        "        self.dw = []\n",
        "        self.db = []\n",
        "        self.delta = []\n",
        "\n",
        "        #initialize weights and biases for each layer\n",
        "        sizes = [input_size] + hidden_sizes + [output_size]\n",
        "        for i in range(len(sizes) - 1):\n",
        "            self.weights.append(np.random.randn(sizes[i], sizes[i+1]))\n",
        "            self.biases.append(np.random.randn(sizes[i+1], 1))\n",
        "        #initialize velocities for momentum-based optimization\n",
        "        self.velocities = [np.zeros_like(w) for w in self.weights]\n",
        "\n",
        "        #initialize rmsprop parameters\n",
        "        self.rmsprop_cache_w = [np.zeros_like(w) for w in self.weights]\n",
        "        self.rmsprop_cache_b = [np.zeros_like(b) for b in self.biases]\n",
        "\n",
        "        #initialize adam parameters\n",
        "        self.adam_m_w = [np.zeros_like(w) for w in self.weights]\n",
        "        self.adam_m_b = [np.zeros_like(b) for b in self.biases]\n",
        "        self.adam_v_w = [np.zeros_like(w) for w in self.weights]\n",
        "        self.adam_v_b = [np.zeros_like(b) for b in self.biases]\n",
        "\n",
        "    @staticmethod\n",
        "    def sigmoid(x):\n",
        "      return 1 / (1 + np.exp(-x))\n",
        "\n",
        "    @staticmethod\n",
        "    def relu(x):\n",
        "      return (x>0)*(x)\n",
        "\n",
        "    @staticmethod\n",
        "    def tanh(x):\n",
        "      return np.tanh(x)\n",
        "\n",
        "    def activation_fun(self,x, act_fun):\n",
        "      if act_fun == 'sigmoid':\n",
        "        return NeuralNetwork.sigmoid(x)\n",
        "      elif act_fun == 'tanh':\n",
        "        return NeuralNetwork.tanh(x)\n",
        "      elif act_fun == 'relu':\n",
        "        return NeuralNetwork.relu(x)\n",
        "\n",
        "    def der_activation(self,x,act_fun):\n",
        "      if act_fun == 'sigmoid':\n",
        "        return NeuralNetwork.sigmoid(x)*(1-NeuralNetwork.sigmoid(x))\n",
        "      elif act_fun == 'tanh':\n",
        "        return 1 - NeuralNetwork.tanh(x) * NeuralNetwork.tanh(x)\n",
        "      elif act_fun == 'relu':\n",
        "        return np.where(x <= 0, 0, 1)\n",
        "\n",
        "    def softmax(self,x):\n",
        "      exp_x = np.exp(x - np.max(x, axis=1, keepdims=True))\n",
        "      return exp_x / np.sum(exp_x, axis=1, keepdims=True)\n",
        "\n",
        "    def softmax_derivative(self,x):\n",
        "        softmax_output = self.softmax(x)\n",
        "        return softmax_output * (1 - softmax_output)\n",
        "\n",
        "    @staticmethod\n",
        "    def logloss(y, y_label):\n",
        "      error = -(y_label*np.log(y+1e-10)+(1-y_label)*np.log(1-y+1e-10))\n",
        "      return np.sum(error, axis = 0)/error.shape[0]\n",
        "\n",
        "    @staticmethod\n",
        "    def Cross_entropy(y, y_hat):\n",
        "      da = (1-y)/(1-y_hat) - (y)/(y_hat+1e-10)\n",
        "      epoch_loss = self.__logloss(y_hat, y)\n",
        "      return da, epoch_loss\n",
        "\n",
        "    #forwardpropagation\n",
        "    def forward(self, X, act_fun):\n",
        "      self.activations = [] #create a list of all activations\n",
        "      self.preactivations = []\n",
        "      self.activations.append(X)\n",
        "      self.preactivations.append(X)\n",
        "      for i in range(len(self.weights)):\n",
        "        z = np.dot(self.weights[i].T,self.activations[-1]) + self.biases[i]\n",
        "        self.preactivations.append(z)  #preactivation\n",
        "        if i < len(self.weights) - 1:\n",
        "          a = self.activation_fun(z,act_fun)\n",
        "        else:\n",
        "          a = self.softmax(z) #output function\n",
        "        #print(\"activation:\",i,a.shape)\n",
        "        self.activations.append(a) #appending the activations list\n",
        "      return self.activations , self.preactivations\n",
        "\n",
        "    #backwardpropagation\n",
        "    def backward(self, y,act_fun):\n",
        "\n",
        "        self.dw = []\n",
        "        self.db = []\n",
        "        self.delta = []\n",
        "        for i in range(len(self.weights) - 1, -1, -1):\n",
        "            if i == len(self.weights) - 1:\n",
        "                dz = (self.activations[-1] - y.T)\n",
        "            else:\n",
        "                dz = np.dot(self.weights[i+1],self.delta[-1]) *  der_activation(self.preactivations[i+1],act_fun)\n",
        "            self.delta.append(dz)\n",
        "            dw_temp = np.dot(dz,self.activations[i].T)\n",
        "            self.dw.append(dw_temp)\n",
        "            db_temp = np.sum(dz, axis=0)\n",
        "            self.db.append(db_temp)\n",
        "\n",
        "        self.dw.reverse()\n",
        "        self.db.reverse()\n",
        "        return self.dw, self.db\n",
        "\n",
        "    def update(self, X, y,act_fun, optimizer, epochs, learning_rate=0.0001, beta1=0.9, beta2=0.999, epsilon=1e-8):\n",
        "      for _ in range(epochs):\n",
        "        activations = self.forward(X,act_fun)\n",
        "        #print(activations)\n",
        "        dw, db = self.backward(y,act_fun)\n",
        "        #print(dw)\n",
        "        #print(db)\n",
        "        if optimizer == 'sgd':\n",
        "          for i in range(len(self.weights)):\n",
        "            #print(dw[i].shape)\n",
        "            #print(self.weights[i].shape)\n",
        "            self.weights[i] -= learning_rate * dw[i].T\n",
        "            #print(self.biases[i].shape)\n",
        "            #print(db[i].shape)\n",
        "            self.biases[i] -= learning_rate * np.mean(db[i], axis=0, keepdims=True)\n",
        "\n",
        "        elif optimizer == 'momentum':\n",
        "          for i in range(len(self.weights)):\n",
        "            self.velocities[i] = beta1 * self.velocities[i] + (1 - beta1) * dw[i].T\n",
        "            self.weights[i] -= learning_rate * self.velocities[i]\n",
        "            self.biases[i] -= learning_rate * np.mean(db[i], axis=0, keepdims=True)\n",
        "\n",
        "\n",
        "        elif optimizer == 'nesterov':\n",
        "          lookahead_weights = [w - beta1 * v for w, v in zip(self.weights, self.velocities)]\n",
        "          lookahead_biases = [b - beta1 * v[-1] for b, v in zip(self.biases, self.velocities)]\n",
        "          lookahead_activations = self.forward(X,act_fun)\n",
        "          lookahead_dw, lookahead_db = self.backward(y, lookahead_activations)\n",
        "          for i in range(len(self.weights)):\n",
        "            self.velocities[i] = beta1 * self.velocities[i] + (1 - beta1) * lookahead_dw[i].T\n",
        "            self.weights[i] -= learning_rate * self.velocities[i]\n",
        "            self.biases[i] -= learning_rate * np.mean(lookahead_db[i], axis=0, keepdims=True)\n",
        "\n",
        "        elif optimizer == 'rmsprop':\n",
        "          for i in range(len(self.weights)):\n",
        "            self.rmsprop_cache_w[i] = beta1 * self.rmsprop_cache_w[i] + (1 - beta1) * (dw[i].T)**2\n",
        "            self.rmsprop_cache_b[i] = beta1 * self.rmsprop_cache_b[i] + (1 - beta1) * np.mean(db[i], axis=0, keepdims=True)**2\n",
        "            self.weights[i] -= learning_rate * dw[i].T / (np.sqrt(self.rmsprop_cache_w[i]) + epsilon)\n",
        "            self.biases[i] -= learning_rate * np.mean(db[i], axis=0, keepdims=True) / (np.sqrt(self.rmsprop_cache_b[i]) + epsilon)\n",
        "\n",
        "        elif optimizer == 'adam':\n",
        "          for i in range(len(self.weights)):\n",
        "            self.adam_m_w[i] = beta1 * self.adam_m_w[i] + (1 - beta1) * dw[i].T\n",
        "            self.adam_m_b[i] = beta1 * self.adam_m_b[i] + (1 - beta1) * np.mean(db[i], axis=0, keepdims=True)\n",
        "            self.adam_v_w[i] = beta2 * self.adam_v_w[i] + (1 - beta2) * (dw[i].T)**2\n",
        "            self.adam_v_b[i] = beta2 * self.adam_v_b[i] + (1 - beta2) * np.mean(db[i], axis=0, keepdims=True)**2\n",
        "            m_w_hat = self.adam_m_w[i] / (1 - beta1**(i+1))\n",
        "            m_b_hat = self.adam_m_b[i] / (1 - beta1**(i+1))\n",
        "            v_w_hat = self.adam_v_w[i] / (1 - beta2**(i+1))\n",
        "            v_b_hat = self.adam_v_b[i] / (1 - beta2**(i+1))\n",
        "            self.weights[i] -= learning_rate * m_w_hat / (np.sqrt(v_w_hat) + epsilon)\n",
        "            self.biases[i] -= learning_rate * m_b_hat / (np.sqrt(v_b_hat) + epsilon)\n",
        "\n",
        "        elif optimizer == 'nadam':\n",
        "          for i in range(len(self.weights)):\n",
        "            self.adam_m_w[i] = beta1 * self.adam_m_w[i] + (1 - beta1) * dw[i].T\n",
        "            self.adam_m_b[i] = beta1 * self.adam_m_b[i] + (1 - beta1) * np.mean(db[i], axis=0, keepdims=True)\n",
        "            self.adam_v_w[i] = beta2 * self.adam_v_w[i] + (1 - beta2) * dw[i].T**2\n",
        "            self.adam_v_b[i] = beta2 * self.adam_v_b[i] + (1 - beta2) * np.mean(db[i], axis=0, keepdims=True)**2\n",
        "            m_w_hat = self.adam_m_w[i] / (1 - beta1**(i+1))\n",
        "            m_b_hat = self.adam_m_b[i] / (1 - beta1**(i+1))\n",
        "            v_w_hat = self.adam_v_w[i] / (1 - beta2**(i+1))\n",
        "            v_b_hat = self.adam_v_b[i] / (1 - beta2**(i+1))\n",
        "            self.weights[i] -= learning_rate * m_w_hat / (np.sqrt(v_w_hat) + epsilon)\n",
        "            self.biases[i] -= learning_rate * m_b_hat / (np.sqrt(v_b_hat) + epsilon)\n",
        "\n",
        "\n",
        "    def train(self, X, y,act_fun, optimizer, epochs, batch_size):\n",
        "      #train the neural network using different optimizers\n",
        "      for i in range(0, len(X), batch_size):\n",
        "        X_batch = X[:,i:i+batch_size]\n",
        "        #print(\"X_batch:\",X_batch.shape)\n",
        "        y_batch = y[i:i+batch_size]\n",
        "        #print(\"y_batch:\",y_batch.shape)\n",
        "        self.update(X_batch,y_batch,act_fun,optimizer,epochs)\n",
        "\n",
        "    def test(self, X,act_fun):\n",
        "      a,b = self.forward(X,act_fun)\n",
        "      return a[-1]\n",
        "\n",
        "\n",
        "#load fashion-mnist dataset\n",
        "from keras.datasets import fashion_mnist\n",
        "(X_train, y_train), (X_test, y_test) = fashion_mnist.load_data()\n",
        "\n",
        "#preprocess the data\n",
        "X_train = X_train.astype('float32') / 255.0\n",
        "X_test = X_test.astype('float32') / 255.0\n",
        "X_train = X_train.reshape(X_train.shape[0], -1)\n",
        "X_test = X_test.reshape(X_test.shape[0], -1)\n",
        "#print('X_tain:',X_train.shape)\n",
        "#print(\"X_test:\",X_test.shape)\n",
        "X_train = X_train.T\n",
        "#print(\"X_tain.T:\",X_train.shape)\n",
        "\n",
        "\n",
        "#define neural network\n",
        "input_size = 784#size of inputs\n",
        "hidden_sizes = [32,64]  #size of neurons in each hidden layers\n",
        "output_size = 10  #taking 10 output neurons as we have classify 10 classes in fashion-mnist\n",
        "\n",
        "#convert labels to one-hot encoding\n",
        "num_classes = 10\n",
        "y_train_one_hot = np.eye(num_classes)[y_train]\n",
        "y_test_one_hot = np.eye(num_classes)[y_test]\n",
        "#print(\"y_train_one_hot:\",y_train_one_hot.shape)\n",
        "#print(\"y_test_one_hot:\",y_test_one_hot.shape)\n",
        "\n",
        "#initialize neural network\n",
        "model = NeuralNetwork(input_size, hidden_sizes, output_size)\n",
        "\n",
        "'''please choose act_fun= 'sigmoid'/'relu'/'tanh' ,optimizer = 'sgd'/'momentum'/'nesterov'/'rmsprop'/'adam'/'nadam'\n",
        "and number of epochs and batch size here'''\n",
        "model.train(X_train, y_train_one_hot,'sigmoid','nadam', epochs=10, batch_size=32)\n",
        "\n",
        "results = model.test(X_test.T,'tanh')\n",
        "#print(results[8])\n",
        "results = np.argmax(results.T, axis=1)\n",
        "#print(results[435])\n",
        "real_labels = np.argmax(y_test_one_hot, axis=1)\n",
        "#print(real_labels.shape)\n",
        "#accuracy = sum(1*(results==real_labels))/len(results)\n",
        "accuracy = np.mean(results==real_labels)\n",
        "print(\"The accuracy of testing is \", accuracy*100, \"%\")\n",
        "#References:\n",
        "#1.https://cs229.stanford.edu/main_notes.pdf\n",
        "#2.http://www.cse.iitm.ac.in/~miteshk/CS6910.html\n",
        "#3.https://visualstudiomagazine.com/Articles/2017/06/01/Back-Propagation.aspx?Page=2\n",
        "#4.https://medium.com/@ipylypenko/exploring-neural-networks-with-fashion-mnist-b0a8214b7b7b\n",
        "#5.https://www.youtube.com/watch?v=Wo5dMEP_BbI&list=PLQVvvaa0QuDcjD5BAw2DxE6OF2tius3V3\n",
        "#7.https://www.youtube.com/watch?v=LQvRhQwDOm0"
      ]
    },
    {
      "cell_type": "code",
      "execution_count": 75,
      "metadata": {
        "colab": {
          "base_uri": "https://localhost:8080/"
        },
        "id": "_ld6uxT66yQN",
        "outputId": "b0f7c76a-cc57-47ee-b341-3885ef427b52"
      },
      "outputs": [
        {
          "output_type": "stream",
          "name": "stdout",
          "text": [
            "Collecting wandb\n",
            "  Downloading wandb-0.16.4-py3-none-any.whl (2.2 MB)\n",
            "\u001b[2K     \u001b[90m━━━━━━━━━━━━━━━━━━━━━━━━━━━━━━━━━━━━━━━━\u001b[0m \u001b[32m2.2/2.2 MB\u001b[0m \u001b[31m13.0 MB/s\u001b[0m eta \u001b[36m0:00:00\u001b[0m\n",
            "\u001b[?25hRequirement already satisfied: Click!=8.0.0,>=7.1 in /usr/local/lib/python3.10/dist-packages (from wandb) (8.1.7)\n",
            "Collecting GitPython!=3.1.29,>=1.0.0 (from wandb)\n",
            "  Downloading GitPython-3.1.42-py3-none-any.whl (195 kB)\n",
            "\u001b[2K     \u001b[90m━━━━━━━━━━━━━━━━━━━━━━━━━━━━━━━━━━━━━━━━\u001b[0m \u001b[32m195.4/195.4 kB\u001b[0m \u001b[31m12.5 MB/s\u001b[0m eta \u001b[36m0:00:00\u001b[0m\n",
            "\u001b[?25hRequirement already satisfied: requests<3,>=2.0.0 in /usr/local/lib/python3.10/dist-packages (from wandb) (2.31.0)\n",
            "Requirement already satisfied: psutil>=5.0.0 in /usr/local/lib/python3.10/dist-packages (from wandb) (5.9.5)\n",
            "Collecting sentry-sdk>=1.0.0 (from wandb)\n",
            "  Downloading sentry_sdk-1.42.0-py2.py3-none-any.whl (263 kB)\n",
            "\u001b[2K     \u001b[90m━━━━━━━━━━━━━━━━━━━━━━━━━━━━━━━━━━━━━━━━\u001b[0m \u001b[32m263.5/263.5 kB\u001b[0m \u001b[31m16.5 MB/s\u001b[0m eta \u001b[36m0:00:00\u001b[0m\n",
            "\u001b[?25hCollecting docker-pycreds>=0.4.0 (from wandb)\n",
            "  Downloading docker_pycreds-0.4.0-py2.py3-none-any.whl (9.0 kB)\n",
            "Requirement already satisfied: PyYAML in /usr/local/lib/python3.10/dist-packages (from wandb) (6.0.1)\n",
            "Collecting setproctitle (from wandb)\n",
            "  Downloading setproctitle-1.3.3-cp310-cp310-manylinux_2_5_x86_64.manylinux1_x86_64.manylinux_2_17_x86_64.manylinux2014_x86_64.whl (30 kB)\n",
            "Requirement already satisfied: setuptools in /usr/local/lib/python3.10/dist-packages (from wandb) (67.7.2)\n",
            "Requirement already satisfied: appdirs>=1.4.3 in /usr/local/lib/python3.10/dist-packages (from wandb) (1.4.4)\n",
            "Requirement already satisfied: protobuf!=4.21.0,<5,>=3.19.0 in /usr/local/lib/python3.10/dist-packages (from wandb) (3.20.3)\n",
            "Requirement already satisfied: six>=1.4.0 in /usr/local/lib/python3.10/dist-packages (from docker-pycreds>=0.4.0->wandb) (1.16.0)\n",
            "Collecting gitdb<5,>=4.0.1 (from GitPython!=3.1.29,>=1.0.0->wandb)\n",
            "  Downloading gitdb-4.0.11-py3-none-any.whl (62 kB)\n",
            "\u001b[2K     \u001b[90m━━━━━━━━━━━━━━━━━━━━━━━━━━━━━━━━━━━━━━━━\u001b[0m \u001b[32m62.7/62.7 kB\u001b[0m \u001b[31m7.4 MB/s\u001b[0m eta \u001b[36m0:00:00\u001b[0m\n",
            "\u001b[?25hRequirement already satisfied: charset-normalizer<4,>=2 in /usr/local/lib/python3.10/dist-packages (from requests<3,>=2.0.0->wandb) (3.3.2)\n",
            "Requirement already satisfied: idna<4,>=2.5 in /usr/local/lib/python3.10/dist-packages (from requests<3,>=2.0.0->wandb) (3.6)\n",
            "Requirement already satisfied: urllib3<3,>=1.21.1 in /usr/local/lib/python3.10/dist-packages (from requests<3,>=2.0.0->wandb) (2.0.7)\n",
            "Requirement already satisfied: certifi>=2017.4.17 in /usr/local/lib/python3.10/dist-packages (from requests<3,>=2.0.0->wandb) (2024.2.2)\n",
            "Collecting smmap<6,>=3.0.1 (from gitdb<5,>=4.0.1->GitPython!=3.1.29,>=1.0.0->wandb)\n",
            "  Downloading smmap-5.0.1-py3-none-any.whl (24 kB)\n",
            "Installing collected packages: smmap, setproctitle, sentry-sdk, docker-pycreds, gitdb, GitPython, wandb\n",
            "Successfully installed GitPython-3.1.42 docker-pycreds-0.4.0 gitdb-4.0.11 sentry-sdk-1.42.0 setproctitle-1.3.3 smmap-5.0.1 wandb-0.16.4\n"
          ]
        }
      ],
      "source": [
        "!pip install wandb"
      ]
    },
    {
      "cell_type": "code",
      "execution_count": 76,
      "metadata": {
        "id": "8bPyudGY49Hy"
      },
      "outputs": [],
      "source": [
        "import wandb\n",
        "import numpy as np\n",
        "from types import SimpleNamespace\n",
        "import random"
      ]
    },
    {
      "cell_type": "code",
      "execution_count": 77,
      "metadata": {
        "colab": {
          "base_uri": "https://localhost:8080/"
        },
        "id": "RK6HY_eV49Hy",
        "outputId": "7cd1adf6-8340-470d-c96a-6328c5043d28"
      },
      "outputs": [
        {
          "output_type": "stream",
          "name": "stderr",
          "text": [
            "\u001b[34m\u001b[1mwandb\u001b[0m: W&B API key is configured. Use \u001b[1m`wandb login --relogin`\u001b[0m to force relogin\n",
            "\u001b[34m\u001b[1mwandb\u001b[0m: \u001b[33mWARNING\u001b[0m If you're specifying your api key in code, ensure this code is not shared publicly.\n",
            "\u001b[34m\u001b[1mwandb\u001b[0m: \u001b[33mWARNING\u001b[0m Consider setting the WANDB_API_KEY environment variable, or running `wandb login` from the command line.\n",
            "\u001b[34m\u001b[1mwandb\u001b[0m: Appending key for api.wandb.ai to your netrc file: /root/.netrc\n"
          ]
        },
        {
          "output_type": "execute_result",
          "data": {
            "text/plain": [
              "True"
            ]
          },
          "metadata": {},
          "execution_count": 77
        }
      ],
      "source": [
        "wandb.login(key='e3c892d4f8c9cd9b9043d31938ad090f0a32cec1')"
      ]
    },
    {
      "cell_type": "code",
      "execution_count": 92,
      "metadata": {
        "colab": {
          "base_uri": "https://localhost:8080/"
        },
        "id": "eHruDnPU49Hz",
        "outputId": "2f2d8cd3-5611-4b75-fad3-f82e3038871f"
      },
      "outputs": [
        {
          "output_type": "stream",
          "name": "stderr",
          "text": [
            "\u001b[34m\u001b[1mwandb\u001b[0m: \u001b[33mWARNING\u001b[0m Malformed sweep config detected! This may cause your sweep to behave in unexpected ways.\n",
            "\u001b[34m\u001b[1mwandb\u001b[0m: \u001b[33mWARNING\u001b[0m To avoid this, please fix the sweep config schema violations below:\n",
            "\u001b[34m\u001b[1mwandb\u001b[0m: \u001b[33mWARNING\u001b[0m   Violation 1. 'batch size' does not match '^^[A-Za-z_][A-Za-z0-9_.-]*$'\n",
            "\u001b[34m\u001b[1mwandb\u001b[0m: \u001b[33mWARNING\u001b[0m   Violation 2. 'weight initialisation' does not match '^^[A-Za-z_][A-Za-z0-9_.-]*$'\n",
            "\u001b[34m\u001b[1mwandb\u001b[0m: \u001b[33mWARNING\u001b[0m   Violation 3. 'learning rate' does not match '^^[A-Za-z_][A-Za-z0-9_.-]*$'\n"
          ]
        },
        {
          "output_type": "stream",
          "name": "stdout",
          "text": [
            "Create sweep with ID: v85165k4\n",
            "Sweep URL: https://wandb.ai/ma23m010/DLassignment1/sweeps/v85165k4\n"
          ]
        }
      ],
      "source": [
        "# You need to define a config file in the form of dictionary or yaml\n",
        "sweep_config = {\n",
        "    'method': 'grid',\n",
        "    'name' : 'sweep cross entropy',\n",
        "    'metric': {\n",
        "      'name': 'val_accuracy',\n",
        "      'goal': 'maximize'\n",
        "    },\n",
        "    'parameters': {\n",
        "        'epochs': {\n",
        "            'values': [5,10]\n",
        "        },\n",
        "         'hidden_size':{\n",
        "            'values':[32,64,128]\n",
        "        },\n",
        "        'activation': {\n",
        "            'values': ['sigmoid','relu','tanh']\n",
        "        },\n",
        "        'loss': {\n",
        "            'values': ['cross_entropy']\n",
        "        },\n",
        "        'weight_decay':{\n",
        "            'values': [0, 0.0005, 0.5]\n",
        "        },\n",
        "        'learning rate':{\n",
        "            'values':[1e-3, 1e-4]\n",
        "        },\n",
        "        'optimizer': {\n",
        "            'values':['sgd', 'momentum', 'nesterov', 'rmsprop', 'adam', 'nadam']\n",
        "        },\n",
        "        'batch size':{\n",
        "             'values':[16, 32, 64]\n",
        "        },\n",
        "        'weight initialisation':{\n",
        "             'values':['random', 'Xavier']\n",
        "        },\n",
        "\n",
        "    }\n",
        "}\n",
        "\n",
        "sweep_id = wandb.sweep(sweep=sweep_config, project='DLassignment1')"
      ]
    },
    {
      "cell_type": "code",
      "execution_count": null,
      "metadata": {
        "colab": {
          "base_uri": "https://localhost:8080/",
          "height": 1000,
          "referenced_widgets": [
            "00ef0c82c5684a90b3072bf6b0291a8f",
            "bf99eb4a7b61469da7afa33e72f15e0a",
            "0b21cb7574b9415fab3e69373a70a7e9",
            "9795114d67ba4a4eade99fea00ba7f3b",
            "fc055cf0c486479e88f925685446f2fb",
            "470698615923483a94991d2dc5907fda",
            "743ee4d0db2242b09144d0138c0a85bc",
            "fa5c7db111294857ad160dbcf62fd9e6",
            "c7faa966143f4d9b85b802706b19634a",
            "7bc4d350ff964112963182741cc328fd"
          ]
        },
        "id": "8NJPG6K449H0",
        "outputId": "01fb8b06-3aa4-41aa-8241-189493ebe7dc"
      },
      "outputs": [
        {
          "name": "stderr",
          "output_type": "stream",
          "text": [
            "\u001b[34m\u001b[1mwandb\u001b[0m: Agent Starting Run: q9vhjsul with config:\n",
            "\u001b[34m\u001b[1mwandb\u001b[0m: \tactivation: sigmoid\n",
            "\u001b[34m\u001b[1mwandb\u001b[0m: \tepochs: 5\n",
            "\u001b[34m\u001b[1mwandb\u001b[0m: \thidden_size: 32\n",
            "\u001b[34m\u001b[1mwandb\u001b[0m: \tloss: cross_entropy\n"
          ]
        },
        {
          "data": {
            "text/html": [
              "Tracking run with wandb version 0.16.3"
            ],
            "text/plain": [
              "<IPython.core.display.HTML object>"
            ]
          },
          "metadata": {},
          "output_type": "display_data"
        },
        {
          "data": {
            "text/html": [
              "Run data is saved locally in <code>/content/wandb/run-20240304_085030-q9vhjsul</code>"
            ],
            "text/plain": [
              "<IPython.core.display.HTML object>"
            ]
          },
          "metadata": {},
          "output_type": "display_data"
        },
        {
          "data": {
            "text/html": [
              "Syncing run <strong><a href='https://wandb.ai/cs22s015/DL_TA%28Ass_1%29/runs/q9vhjsul' target=\"_blank\">resilient-sweep-1</a></strong> to <a href='https://wandb.ai/cs22s015/DL_TA%28Ass_1%29' target=\"_blank\">Weights & Biases</a> (<a href='https://wandb.me/run' target=\"_blank\">docs</a>)<br/>Sweep page: <a href='https://wandb.ai/cs22s015/DL_TA%28Ass_1%29/sweeps/2f9yewzu' target=\"_blank\">https://wandb.ai/cs22s015/DL_TA%28Ass_1%29/sweeps/2f9yewzu</a>"
            ],
            "text/plain": [
              "<IPython.core.display.HTML object>"
            ]
          },
          "metadata": {},
          "output_type": "display_data"
        },
        {
          "data": {
            "text/html": [
              " View project at <a href='https://wandb.ai/cs22s015/DL_TA%28Ass_1%29' target=\"_blank\">https://wandb.ai/cs22s015/DL_TA%28Ass_1%29</a>"
            ],
            "text/plain": [
              "<IPython.core.display.HTML object>"
            ]
          },
          "metadata": {},
          "output_type": "display_data"
        },
        {
          "data": {
            "text/html": [
              " View sweep at <a href='https://wandb.ai/cs22s015/DL_TA%28Ass_1%29/sweeps/2f9yewzu' target=\"_blank\">https://wandb.ai/cs22s015/DL_TA%28Ass_1%29/sweeps/2f9yewzu</a>"
            ],
            "text/plain": [
              "<IPython.core.display.HTML object>"
            ]
          },
          "metadata": {},
          "output_type": "display_data"
        },
        {
          "data": {
            "text/html": [
              " View run at <a href='https://wandb.ai/cs22s015/DL_TA%28Ass_1%29/runs/q9vhjsul' target=\"_blank\">https://wandb.ai/cs22s015/DL_TA%28Ass_1%29/runs/q9vhjsul</a>"
            ],
            "text/plain": [
              "<IPython.core.display.HTML object>"
            ]
          },
          "metadata": {},
          "output_type": "display_data"
        },
        {
          "data": {
            "application/vnd.jupyter.widget-view+json": {
              "model_id": "00ef0c82c5684a90b3072bf6b0291a8f",
              "version_major": 2,
              "version_minor": 0
            },
            "text/plain": [
              "VBox(children=(Label(value='0.011 MB of 0.011 MB uploaded\\r'), FloatProgress(value=1.0, max=1.0)))"
            ]
          },
          "metadata": {},
          "output_type": "display_data"
        },
        {
          "data": {
            "text/html": [
              "<style>\n",
              "    table.wandb td:nth-child(1) { padding: 0 10px; text-align: left ; width: auto;} td:nth-child(2) {text-align: left ; width: 100%}\n",
              "    .wandb-row { display: flex; flex-direction: row; flex-wrap: wrap; justify-content: flex-start; width: 100% }\n",
              "    .wandb-col { display: flex; flex-direction: column; flex-basis: 100%; flex: 1; padding: 10px; }\n",
              "    </style>\n",
              "<div class=\"wandb-row\"><div class=\"wandb-col\"><h3>Run history:</h3><br/><table class=\"wandb\"><tr><td>epoch</td><td>▁▃▅▆█</td></tr><tr><td>train accuracy</td><td>▁▅▇██</td></tr><tr><td>train loss</td><td>█▆▄▂▁</td></tr><tr><td>val_accuracy</td><td>▁▅▇▇█</td></tr></table><br/></div><div class=\"wandb-col\"><h3>Run summary:</h3><br/><table class=\"wandb\"><tr><td>epoch</td><td>5</td></tr><tr><td>train accuracy</td><td>58.43333</td></tr><tr><td>train loss</td><td>1.87821</td></tr><tr><td>val_accuracy</td><td>58.40833</td></tr></table><br/></div></div>"
            ],
            "text/plain": [
              "<IPython.core.display.HTML object>"
            ]
          },
          "metadata": {},
          "output_type": "display_data"
        },
        {
          "data": {
            "text/html": [
              " View run <strong style=\"color:#cdcd00\">resilient-sweep-1</strong> at: <a href='https://wandb.ai/cs22s015/DL_TA%28Ass_1%29/runs/q9vhjsul' target=\"_blank\">https://wandb.ai/cs22s015/DL_TA%28Ass_1%29/runs/q9vhjsul</a><br/>Synced 4 W&B file(s), 0 media file(s), 0 artifact file(s) and 0 other file(s)"
            ],
            "text/plain": [
              "<IPython.core.display.HTML object>"
            ]
          },
          "metadata": {},
          "output_type": "display_data"
        },
        {
          "data": {
            "text/html": [
              "Find logs at: <code>./wandb/run-20240304_085030-q9vhjsul/logs</code>"
            ],
            "text/plain": [
              "<IPython.core.display.HTML object>"
            ]
          },
          "metadata": {},
          "output_type": "display_data"
        },
        {
          "name": "stderr",
          "output_type": "stream",
          "text": [
            "\u001b[34m\u001b[1mwandb\u001b[0m: Agent Starting Run: otq5p3ld with config:\n",
            "\u001b[34m\u001b[1mwandb\u001b[0m: \tactivation: sigmoid\n",
            "\u001b[34m\u001b[1mwandb\u001b[0m: \tepochs: 5\n",
            "\u001b[34m\u001b[1mwandb\u001b[0m: \thidden_size: 64\n",
            "\u001b[34m\u001b[1mwandb\u001b[0m: \tloss: cross_entropy\n"
          ]
        },
        {
          "data": {
            "text/html": [
              "Tracking run with wandb version 0.16.3"
            ],
            "text/plain": [
              "<IPython.core.display.HTML object>"
            ]
          },
          "metadata": {},
          "output_type": "display_data"
        },
        {
          "data": {
            "text/html": [
              "Run data is saved locally in <code>/content/wandb/run-20240304_085041-otq5p3ld</code>"
            ],
            "text/plain": [
              "<IPython.core.display.HTML object>"
            ]
          },
          "metadata": {},
          "output_type": "display_data"
        },
        {
          "data": {
            "text/html": [
              "Syncing run <strong><a href='https://wandb.ai/cs22s015/DL_TA%28Ass_1%29/runs/otq5p3ld' target=\"_blank\">clean-sweep-2</a></strong> to <a href='https://wandb.ai/cs22s015/DL_TA%28Ass_1%29' target=\"_blank\">Weights & Biases</a> (<a href='https://wandb.me/run' target=\"_blank\">docs</a>)<br/>Sweep page: <a href='https://wandb.ai/cs22s015/DL_TA%28Ass_1%29/sweeps/2f9yewzu' target=\"_blank\">https://wandb.ai/cs22s015/DL_TA%28Ass_1%29/sweeps/2f9yewzu</a>"
            ],
            "text/plain": [
              "<IPython.core.display.HTML object>"
            ]
          },
          "metadata": {},
          "output_type": "display_data"
        },
        {
          "data": {
            "text/html": [
              " View project at <a href='https://wandb.ai/cs22s015/DL_TA%28Ass_1%29' target=\"_blank\">https://wandb.ai/cs22s015/DL_TA%28Ass_1%29</a>"
            ],
            "text/plain": [
              "<IPython.core.display.HTML object>"
            ]
          },
          "metadata": {},
          "output_type": "display_data"
        },
        {
          "data": {
            "text/html": [
              " View sweep at <a href='https://wandb.ai/cs22s015/DL_TA%28Ass_1%29/sweeps/2f9yewzu' target=\"_blank\">https://wandb.ai/cs22s015/DL_TA%28Ass_1%29/sweeps/2f9yewzu</a>"
            ],
            "text/plain": [
              "<IPython.core.display.HTML object>"
            ]
          },
          "metadata": {},
          "output_type": "display_data"
        },
        {
          "data": {
            "text/html": [
              " View run at <a href='https://wandb.ai/cs22s015/DL_TA%28Ass_1%29/runs/otq5p3ld' target=\"_blank\">https://wandb.ai/cs22s015/DL_TA%28Ass_1%29/runs/otq5p3ld</a>"
            ],
            "text/plain": [
              "<IPython.core.display.HTML object>"
            ]
          },
          "metadata": {},
          "output_type": "display_data"
        },
        {
          "data": {
            "application/vnd.jupyter.widget-view+json": {
              "model_id": "bf99eb4a7b61469da7afa33e72f15e0a",
              "version_major": 2,
              "version_minor": 0
            },
            "text/plain": [
              "VBox(children=(Label(value='0.011 MB of 0.011 MB uploaded\\r'), FloatProgress(value=1.0, max=1.0)))"
            ]
          },
          "metadata": {},
          "output_type": "display_data"
        },
        {
          "data": {
            "text/html": [
              "<style>\n",
              "    table.wandb td:nth-child(1) { padding: 0 10px; text-align: left ; width: auto;} td:nth-child(2) {text-align: left ; width: 100%}\n",
              "    .wandb-row { display: flex; flex-direction: row; flex-wrap: wrap; justify-content: flex-start; width: 100% }\n",
              "    .wandb-col { display: flex; flex-direction: column; flex-basis: 100%; flex: 1; padding: 10px; }\n",
              "    </style>\n",
              "<div class=\"wandb-row\"><div class=\"wandb-col\"><h3>Run history:</h3><br/><table class=\"wandb\"><tr><td>epoch</td><td>▁▃▅▆█</td></tr><tr><td>train accuracy</td><td>▁▃▆▇█</td></tr><tr><td>train loss</td><td>█▆▄▃▁</td></tr><tr><td>val_accuracy</td><td>▁▃▆▇█</td></tr></table><br/></div><div class=\"wandb-col\"><h3>Run summary:</h3><br/><table class=\"wandb\"><tr><td>epoch</td><td>5</td></tr><tr><td>train accuracy</td><td>64.88542</td></tr><tr><td>train loss</td><td>1.71328</td></tr><tr><td>val_accuracy</td><td>64.75</td></tr></table><br/></div></div>"
            ],
            "text/plain": [
              "<IPython.core.display.HTML object>"
            ]
          },
          "metadata": {},
          "output_type": "display_data"
        },
        {
          "data": {
            "text/html": [
              " View run <strong style=\"color:#cdcd00\">clean-sweep-2</strong> at: <a href='https://wandb.ai/cs22s015/DL_TA%28Ass_1%29/runs/otq5p3ld' target=\"_blank\">https://wandb.ai/cs22s015/DL_TA%28Ass_1%29/runs/otq5p3ld</a><br/>Synced 4 W&B file(s), 0 media file(s), 0 artifact file(s) and 0 other file(s)"
            ],
            "text/plain": [
              "<IPython.core.display.HTML object>"
            ]
          },
          "metadata": {},
          "output_type": "display_data"
        },
        {
          "data": {
            "text/html": [
              "Find logs at: <code>./wandb/run-20240304_085041-otq5p3ld/logs</code>"
            ],
            "text/plain": [
              "<IPython.core.display.HTML object>"
            ]
          },
          "metadata": {},
          "output_type": "display_data"
        },
        {
          "name": "stderr",
          "output_type": "stream",
          "text": [
            "\u001b[34m\u001b[1mwandb\u001b[0m: Sweep Agent: Waiting for job.\n",
            "\u001b[34m\u001b[1mwandb\u001b[0m: Job received.\n",
            "\u001b[34m\u001b[1mwandb\u001b[0m: Agent Starting Run: 8zev6kdt with config:\n",
            "\u001b[34m\u001b[1mwandb\u001b[0m: \tactivation: sigmoid\n",
            "\u001b[34m\u001b[1mwandb\u001b[0m: \tepochs: 5\n",
            "\u001b[34m\u001b[1mwandb\u001b[0m: \thidden_size: 128\n",
            "\u001b[34m\u001b[1mwandb\u001b[0m: \tloss: cross_entropy\n"
          ]
        },
        {
          "data": {
            "text/html": [
              "Tracking run with wandb version 0.16.3"
            ],
            "text/plain": [
              "<IPython.core.display.HTML object>"
            ]
          },
          "metadata": {},
          "output_type": "display_data"
        },
        {
          "data": {
            "text/html": [
              "Run data is saved locally in <code>/content/wandb/run-20240304_085100-8zev6kdt</code>"
            ],
            "text/plain": [
              "<IPython.core.display.HTML object>"
            ]
          },
          "metadata": {},
          "output_type": "display_data"
        },
        {
          "data": {
            "text/html": [
              "Syncing run <strong><a href='https://wandb.ai/cs22s015/DL_TA%28Ass_1%29/runs/8zev6kdt' target=\"_blank\">genial-sweep-3</a></strong> to <a href='https://wandb.ai/cs22s015/DL_TA%28Ass_1%29' target=\"_blank\">Weights & Biases</a> (<a href='https://wandb.me/run' target=\"_blank\">docs</a>)<br/>Sweep page: <a href='https://wandb.ai/cs22s015/DL_TA%28Ass_1%29/sweeps/2f9yewzu' target=\"_blank\">https://wandb.ai/cs22s015/DL_TA%28Ass_1%29/sweeps/2f9yewzu</a>"
            ],
            "text/plain": [
              "<IPython.core.display.HTML object>"
            ]
          },
          "metadata": {},
          "output_type": "display_data"
        },
        {
          "data": {
            "text/html": [
              " View project at <a href='https://wandb.ai/cs22s015/DL_TA%28Ass_1%29' target=\"_blank\">https://wandb.ai/cs22s015/DL_TA%28Ass_1%29</a>"
            ],
            "text/plain": [
              "<IPython.core.display.HTML object>"
            ]
          },
          "metadata": {},
          "output_type": "display_data"
        },
        {
          "data": {
            "text/html": [
              " View sweep at <a href='https://wandb.ai/cs22s015/DL_TA%28Ass_1%29/sweeps/2f9yewzu' target=\"_blank\">https://wandb.ai/cs22s015/DL_TA%28Ass_1%29/sweeps/2f9yewzu</a>"
            ],
            "text/plain": [
              "<IPython.core.display.HTML object>"
            ]
          },
          "metadata": {},
          "output_type": "display_data"
        },
        {
          "data": {
            "text/html": [
              " View run at <a href='https://wandb.ai/cs22s015/DL_TA%28Ass_1%29/runs/8zev6kdt' target=\"_blank\">https://wandb.ai/cs22s015/DL_TA%28Ass_1%29/runs/8zev6kdt</a>"
            ],
            "text/plain": [
              "<IPython.core.display.HTML object>"
            ]
          },
          "metadata": {},
          "output_type": "display_data"
        },
        {
          "data": {
            "application/vnd.jupyter.widget-view+json": {
              "model_id": "0b21cb7574b9415fab3e69373a70a7e9",
              "version_major": 2,
              "version_minor": 0
            },
            "text/plain": [
              "VBox(children=(Label(value='0.011 MB of 0.011 MB uploaded\\r'), FloatProgress(value=1.0, max=1.0)))"
            ]
          },
          "metadata": {},
          "output_type": "display_data"
        },
        {
          "data": {
            "text/html": [
              "<style>\n",
              "    table.wandb td:nth-child(1) { padding: 0 10px; text-align: left ; width: auto;} td:nth-child(2) {text-align: left ; width: 100%}\n",
              "    .wandb-row { display: flex; flex-direction: row; flex-wrap: wrap; justify-content: flex-start; width: 100% }\n",
              "    .wandb-col { display: flex; flex-direction: column; flex-basis: 100%; flex: 1; padding: 10px; }\n",
              "    </style>\n",
              "<div class=\"wandb-row\"><div class=\"wandb-col\"><h3>Run history:</h3><br/><table class=\"wandb\"><tr><td>epoch</td><td>▁▃▅▆█</td></tr><tr><td>train accuracy</td><td>▁▃▇██</td></tr><tr><td>train loss</td><td>█▇▄▂▁</td></tr><tr><td>val_accuracy</td><td>▁▃▇██</td></tr></table><br/></div><div class=\"wandb-col\"><h3>Run summary:</h3><br/><table class=\"wandb\"><tr><td>epoch</td><td>5</td></tr><tr><td>train accuracy</td><td>52.99583</td></tr><tr><td>train loss</td><td>1.62147</td></tr><tr><td>val_accuracy</td><td>52.88333</td></tr></table><br/></div></div>"
            ],
            "text/plain": [
              "<IPython.core.display.HTML object>"
            ]
          },
          "metadata": {},
          "output_type": "display_data"
        },
        {
          "data": {
            "text/html": [
              " View run <strong style=\"color:#cdcd00\">genial-sweep-3</strong> at: <a href='https://wandb.ai/cs22s015/DL_TA%28Ass_1%29/runs/8zev6kdt' target=\"_blank\">https://wandb.ai/cs22s015/DL_TA%28Ass_1%29/runs/8zev6kdt</a><br/>Synced 4 W&B file(s), 0 media file(s), 0 artifact file(s) and 0 other file(s)"
            ],
            "text/plain": [
              "<IPython.core.display.HTML object>"
            ]
          },
          "metadata": {},
          "output_type": "display_data"
        },
        {
          "data": {
            "text/html": [
              "Find logs at: <code>./wandb/run-20240304_085100-8zev6kdt/logs</code>"
            ],
            "text/plain": [
              "<IPython.core.display.HTML object>"
            ]
          },
          "metadata": {},
          "output_type": "display_data"
        },
        {
          "name": "stderr",
          "output_type": "stream",
          "text": [
            "\u001b[34m\u001b[1mwandb\u001b[0m: Agent Starting Run: kkp3pja5 with config:\n",
            "\u001b[34m\u001b[1mwandb\u001b[0m: \tactivation: sigmoid\n",
            "\u001b[34m\u001b[1mwandb\u001b[0m: \tepochs: 10\n",
            "\u001b[34m\u001b[1mwandb\u001b[0m: \thidden_size: 32\n",
            "\u001b[34m\u001b[1mwandb\u001b[0m: \tloss: cross_entropy\n"
          ]
        },
        {
          "data": {
            "text/html": [
              "Tracking run with wandb version 0.16.3"
            ],
            "text/plain": [
              "<IPython.core.display.HTML object>"
            ]
          },
          "metadata": {},
          "output_type": "display_data"
        },
        {
          "data": {
            "text/html": [
              "Run data is saved locally in <code>/content/wandb/run-20240304_085112-kkp3pja5</code>"
            ],
            "text/plain": [
              "<IPython.core.display.HTML object>"
            ]
          },
          "metadata": {},
          "output_type": "display_data"
        },
        {
          "data": {
            "text/html": [
              "Syncing run <strong><a href='https://wandb.ai/cs22s015/DL_TA%28Ass_1%29/runs/kkp3pja5' target=\"_blank\">different-sweep-4</a></strong> to <a href='https://wandb.ai/cs22s015/DL_TA%28Ass_1%29' target=\"_blank\">Weights & Biases</a> (<a href='https://wandb.me/run' target=\"_blank\">docs</a>)<br/>Sweep page: <a href='https://wandb.ai/cs22s015/DL_TA%28Ass_1%29/sweeps/2f9yewzu' target=\"_blank\">https://wandb.ai/cs22s015/DL_TA%28Ass_1%29/sweeps/2f9yewzu</a>"
            ],
            "text/plain": [
              "<IPython.core.display.HTML object>"
            ]
          },
          "metadata": {},
          "output_type": "display_data"
        },
        {
          "data": {
            "text/html": [
              " View project at <a href='https://wandb.ai/cs22s015/DL_TA%28Ass_1%29' target=\"_blank\">https://wandb.ai/cs22s015/DL_TA%28Ass_1%29</a>"
            ],
            "text/plain": [
              "<IPython.core.display.HTML object>"
            ]
          },
          "metadata": {},
          "output_type": "display_data"
        },
        {
          "data": {
            "text/html": [
              " View sweep at <a href='https://wandb.ai/cs22s015/DL_TA%28Ass_1%29/sweeps/2f9yewzu' target=\"_blank\">https://wandb.ai/cs22s015/DL_TA%28Ass_1%29/sweeps/2f9yewzu</a>"
            ],
            "text/plain": [
              "<IPython.core.display.HTML object>"
            ]
          },
          "metadata": {},
          "output_type": "display_data"
        },
        {
          "data": {
            "text/html": [
              " View run at <a href='https://wandb.ai/cs22s015/DL_TA%28Ass_1%29/runs/kkp3pja5' target=\"_blank\">https://wandb.ai/cs22s015/DL_TA%28Ass_1%29/runs/kkp3pja5</a>"
            ],
            "text/plain": [
              "<IPython.core.display.HTML object>"
            ]
          },
          "metadata": {},
          "output_type": "display_data"
        },
        {
          "data": {
            "application/vnd.jupyter.widget-view+json": {
              "model_id": "9795114d67ba4a4eade99fea00ba7f3b",
              "version_major": 2,
              "version_minor": 0
            },
            "text/plain": [
              "VBox(children=(Label(value='0.011 MB of 0.011 MB uploaded\\r'), FloatProgress(value=1.0, max=1.0)))"
            ]
          },
          "metadata": {},
          "output_type": "display_data"
        },
        {
          "data": {
            "text/html": [
              "<style>\n",
              "    table.wandb td:nth-child(1) { padding: 0 10px; text-align: left ; width: auto;} td:nth-child(2) {text-align: left ; width: 100%}\n",
              "    .wandb-row { display: flex; flex-direction: row; flex-wrap: wrap; justify-content: flex-start; width: 100% }\n",
              "    .wandb-col { display: flex; flex-direction: column; flex-basis: 100%; flex: 1; padding: 10px; }\n",
              "    </style>\n",
              "<div class=\"wandb-row\"><div class=\"wandb-col\"><h3>Run history:</h3><br/><table class=\"wandb\"><tr><td>epoch</td><td>▁▂▃▃▄▅▆▆▇█</td></tr><tr><td>train accuracy</td><td>▁▃▆▆▇▇▇▇██</td></tr><tr><td>train loss</td><td>█▇▆▅▄▄▃▂▂▁</td></tr><tr><td>val_accuracy</td><td>▁▃▆▆▇▇▇▇██</td></tr></table><br/></div><div class=\"wandb-col\"><h3>Run summary:</h3><br/><table class=\"wandb\"><tr><td>epoch</td><td>10</td></tr><tr><td>train accuracy</td><td>69.83125</td></tr><tr><td>train loss</td><td>1.53047</td></tr><tr><td>val_accuracy</td><td>69.90833</td></tr></table><br/></div></div>"
            ],
            "text/plain": [
              "<IPython.core.display.HTML object>"
            ]
          },
          "metadata": {},
          "output_type": "display_data"
        },
        {
          "data": {
            "text/html": [
              " View run <strong style=\"color:#cdcd00\">different-sweep-4</strong> at: <a href='https://wandb.ai/cs22s015/DL_TA%28Ass_1%29/runs/kkp3pja5' target=\"_blank\">https://wandb.ai/cs22s015/DL_TA%28Ass_1%29/runs/kkp3pja5</a><br/>Synced 4 W&B file(s), 0 media file(s), 0 artifact file(s) and 0 other file(s)"
            ],
            "text/plain": [
              "<IPython.core.display.HTML object>"
            ]
          },
          "metadata": {},
          "output_type": "display_data"
        },
        {
          "data": {
            "text/html": [
              "Find logs at: <code>./wandb/run-20240304_085112-kkp3pja5/logs</code>"
            ],
            "text/plain": [
              "<IPython.core.display.HTML object>"
            ]
          },
          "metadata": {},
          "output_type": "display_data"
        },
        {
          "name": "stderr",
          "output_type": "stream",
          "text": [
            "\u001b[34m\u001b[1mwandb\u001b[0m: Agent Starting Run: oo6ffszp with config:\n",
            "\u001b[34m\u001b[1mwandb\u001b[0m: \tactivation: sigmoid\n",
            "\u001b[34m\u001b[1mwandb\u001b[0m: \tepochs: 10\n",
            "\u001b[34m\u001b[1mwandb\u001b[0m: \thidden_size: 64\n",
            "\u001b[34m\u001b[1mwandb\u001b[0m: \tloss: cross_entropy\n"
          ]
        },
        {
          "data": {
            "text/html": [
              "Tracking run with wandb version 0.16.3"
            ],
            "text/plain": [
              "<IPython.core.display.HTML object>"
            ]
          },
          "metadata": {},
          "output_type": "display_data"
        },
        {
          "data": {
            "text/html": [
              "Run data is saved locally in <code>/content/wandb/run-20240304_085123-oo6ffszp</code>"
            ],
            "text/plain": [
              "<IPython.core.display.HTML object>"
            ]
          },
          "metadata": {},
          "output_type": "display_data"
        },
        {
          "data": {
            "text/html": [
              "Syncing run <strong><a href='https://wandb.ai/cs22s015/DL_TA%28Ass_1%29/runs/oo6ffszp' target=\"_blank\">celestial-sweep-5</a></strong> to <a href='https://wandb.ai/cs22s015/DL_TA%28Ass_1%29' target=\"_blank\">Weights & Biases</a> (<a href='https://wandb.me/run' target=\"_blank\">docs</a>)<br/>Sweep page: <a href='https://wandb.ai/cs22s015/DL_TA%28Ass_1%29/sweeps/2f9yewzu' target=\"_blank\">https://wandb.ai/cs22s015/DL_TA%28Ass_1%29/sweeps/2f9yewzu</a>"
            ],
            "text/plain": [
              "<IPython.core.display.HTML object>"
            ]
          },
          "metadata": {},
          "output_type": "display_data"
        },
        {
          "data": {
            "text/html": [
              " View project at <a href='https://wandb.ai/cs22s015/DL_TA%28Ass_1%29' target=\"_blank\">https://wandb.ai/cs22s015/DL_TA%28Ass_1%29</a>"
            ],
            "text/plain": [
              "<IPython.core.display.HTML object>"
            ]
          },
          "metadata": {},
          "output_type": "display_data"
        },
        {
          "data": {
            "text/html": [
              " View sweep at <a href='https://wandb.ai/cs22s015/DL_TA%28Ass_1%29/sweeps/2f9yewzu' target=\"_blank\">https://wandb.ai/cs22s015/DL_TA%28Ass_1%29/sweeps/2f9yewzu</a>"
            ],
            "text/plain": [
              "<IPython.core.display.HTML object>"
            ]
          },
          "metadata": {},
          "output_type": "display_data"
        },
        {
          "data": {
            "text/html": [
              " View run at <a href='https://wandb.ai/cs22s015/DL_TA%28Ass_1%29/runs/oo6ffszp' target=\"_blank\">https://wandb.ai/cs22s015/DL_TA%28Ass_1%29/runs/oo6ffszp</a>"
            ],
            "text/plain": [
              "<IPython.core.display.HTML object>"
            ]
          },
          "metadata": {},
          "output_type": "display_data"
        },
        {
          "data": {
            "application/vnd.jupyter.widget-view+json": {
              "model_id": "fc055cf0c486479e88f925685446f2fb",
              "version_major": 2,
              "version_minor": 0
            },
            "text/plain": [
              "VBox(children=(Label(value='0.011 MB of 0.011 MB uploaded\\r'), FloatProgress(value=1.0, max=1.0)))"
            ]
          },
          "metadata": {},
          "output_type": "display_data"
        },
        {
          "data": {
            "text/html": [
              "<style>\n",
              "    table.wandb td:nth-child(1) { padding: 0 10px; text-align: left ; width: auto;} td:nth-child(2) {text-align: left ; width: 100%}\n",
              "    .wandb-row { display: flex; flex-direction: row; flex-wrap: wrap; justify-content: flex-start; width: 100% }\n",
              "    .wandb-col { display: flex; flex-direction: column; flex-basis: 100%; flex: 1; padding: 10px; }\n",
              "    </style>\n",
              "<div class=\"wandb-row\"><div class=\"wandb-col\"><h3>Run history:</h3><br/><table class=\"wandb\"><tr><td>epoch</td><td>▁▂▃▃▄▅▆▆▇█</td></tr><tr><td>train accuracy</td><td>▁▃▅▆▇▇▇███</td></tr><tr><td>train loss</td><td>█▇▆▅▄▄▃▂▂▁</td></tr><tr><td>val_accuracy</td><td>▁▃▅▆▇▇▇███</td></tr></table><br/></div><div class=\"wandb-col\"><h3>Run summary:</h3><br/><table class=\"wandb\"><tr><td>epoch</td><td>10</td></tr><tr><td>train accuracy</td><td>80.44583</td></tr><tr><td>train loss</td><td>1.1747</td></tr><tr><td>val_accuracy</td><td>80.16667</td></tr></table><br/></div></div>"
            ],
            "text/plain": [
              "<IPython.core.display.HTML object>"
            ]
          },
          "metadata": {},
          "output_type": "display_data"
        },
        {
          "data": {
            "text/html": [
              " View run <strong style=\"color:#cdcd00\">celestial-sweep-5</strong> at: <a href='https://wandb.ai/cs22s015/DL_TA%28Ass_1%29/runs/oo6ffszp' target=\"_blank\">https://wandb.ai/cs22s015/DL_TA%28Ass_1%29/runs/oo6ffszp</a><br/>Synced 4 W&B file(s), 0 media file(s), 0 artifact file(s) and 0 other file(s)"
            ],
            "text/plain": [
              "<IPython.core.display.HTML object>"
            ]
          },
          "metadata": {},
          "output_type": "display_data"
        },
        {
          "data": {
            "text/html": [
              "Find logs at: <code>./wandb/run-20240304_085123-oo6ffszp/logs</code>"
            ],
            "text/plain": [
              "<IPython.core.display.HTML object>"
            ]
          },
          "metadata": {},
          "output_type": "display_data"
        },
        {
          "name": "stderr",
          "output_type": "stream",
          "text": [
            "\u001b[34m\u001b[1mwandb\u001b[0m: Agent Starting Run: luah2d03 with config:\n",
            "\u001b[34m\u001b[1mwandb\u001b[0m: \tactivation: sigmoid\n",
            "\u001b[34m\u001b[1mwandb\u001b[0m: \tepochs: 10\n",
            "\u001b[34m\u001b[1mwandb\u001b[0m: \thidden_size: 128\n",
            "\u001b[34m\u001b[1mwandb\u001b[0m: \tloss: cross_entropy\n"
          ]
        },
        {
          "data": {
            "text/html": [
              "Tracking run with wandb version 0.16.3"
            ],
            "text/plain": [
              "<IPython.core.display.HTML object>"
            ]
          },
          "metadata": {},
          "output_type": "display_data"
        },
        {
          "data": {
            "text/html": [
              "Run data is saved locally in <code>/content/wandb/run-20240304_085134-luah2d03</code>"
            ],
            "text/plain": [
              "<IPython.core.display.HTML object>"
            ]
          },
          "metadata": {},
          "output_type": "display_data"
        },
        {
          "data": {
            "text/html": [
              "Syncing run <strong><a href='https://wandb.ai/cs22s015/DL_TA%28Ass_1%29/runs/luah2d03' target=\"_blank\">sandy-sweep-6</a></strong> to <a href='https://wandb.ai/cs22s015/DL_TA%28Ass_1%29' target=\"_blank\">Weights & Biases</a> (<a href='https://wandb.me/run' target=\"_blank\">docs</a>)<br/>Sweep page: <a href='https://wandb.ai/cs22s015/DL_TA%28Ass_1%29/sweeps/2f9yewzu' target=\"_blank\">https://wandb.ai/cs22s015/DL_TA%28Ass_1%29/sweeps/2f9yewzu</a>"
            ],
            "text/plain": [
              "<IPython.core.display.HTML object>"
            ]
          },
          "metadata": {},
          "output_type": "display_data"
        },
        {
          "data": {
            "text/html": [
              " View project at <a href='https://wandb.ai/cs22s015/DL_TA%28Ass_1%29' target=\"_blank\">https://wandb.ai/cs22s015/DL_TA%28Ass_1%29</a>"
            ],
            "text/plain": [
              "<IPython.core.display.HTML object>"
            ]
          },
          "metadata": {},
          "output_type": "display_data"
        },
        {
          "data": {
            "text/html": [
              " View sweep at <a href='https://wandb.ai/cs22s015/DL_TA%28Ass_1%29/sweeps/2f9yewzu' target=\"_blank\">https://wandb.ai/cs22s015/DL_TA%28Ass_1%29/sweeps/2f9yewzu</a>"
            ],
            "text/plain": [
              "<IPython.core.display.HTML object>"
            ]
          },
          "metadata": {},
          "output_type": "display_data"
        },
        {
          "data": {
            "text/html": [
              " View run at <a href='https://wandb.ai/cs22s015/DL_TA%28Ass_1%29/runs/luah2d03' target=\"_blank\">https://wandb.ai/cs22s015/DL_TA%28Ass_1%29/runs/luah2d03</a>"
            ],
            "text/plain": [
              "<IPython.core.display.HTML object>"
            ]
          },
          "metadata": {},
          "output_type": "display_data"
        },
        {
          "data": {
            "application/vnd.jupyter.widget-view+json": {
              "model_id": "470698615923483a94991d2dc5907fda",
              "version_major": 2,
              "version_minor": 0
            },
            "text/plain": [
              "VBox(children=(Label(value='0.011 MB of 0.011 MB uploaded\\r'), FloatProgress(value=1.0, max=1.0)))"
            ]
          },
          "metadata": {},
          "output_type": "display_data"
        },
        {
          "data": {
            "text/html": [
              "<style>\n",
              "    table.wandb td:nth-child(1) { padding: 0 10px; text-align: left ; width: auto;} td:nth-child(2) {text-align: left ; width: 100%}\n",
              "    .wandb-row { display: flex; flex-direction: row; flex-wrap: wrap; justify-content: flex-start; width: 100% }\n",
              "    .wandb-col { display: flex; flex-direction: column; flex-basis: 100%; flex: 1; padding: 10px; }\n",
              "    </style>\n",
              "<div class=\"wandb-row\"><div class=\"wandb-col\"><h3>Run history:</h3><br/><table class=\"wandb\"><tr><td>epoch</td><td>▁▂▃▃▄▅▆▆▇█</td></tr><tr><td>train accuracy</td><td>▁▄▄▅▇▇▇▇██</td></tr><tr><td>train loss</td><td>█▇▆▅▄▄▃▂▂▁</td></tr><tr><td>val_accuracy</td><td>▁▄▃▅▇▇▇▇██</td></tr></table><br/></div><div class=\"wandb-col\"><h3>Run summary:</h3><br/><table class=\"wandb\"><tr><td>epoch</td><td>10</td></tr><tr><td>train accuracy</td><td>78.16667</td></tr><tr><td>train loss</td><td>0.99701</td></tr><tr><td>val_accuracy</td><td>78.08333</td></tr></table><br/></div></div>"
            ],
            "text/plain": [
              "<IPython.core.display.HTML object>"
            ]
          },
          "metadata": {},
          "output_type": "display_data"
        },
        {
          "data": {
            "text/html": [
              " View run <strong style=\"color:#cdcd00\">sandy-sweep-6</strong> at: <a href='https://wandb.ai/cs22s015/DL_TA%28Ass_1%29/runs/luah2d03' target=\"_blank\">https://wandb.ai/cs22s015/DL_TA%28Ass_1%29/runs/luah2d03</a><br/>Synced 4 W&B file(s), 0 media file(s), 0 artifact file(s) and 0 other file(s)"
            ],
            "text/plain": [
              "<IPython.core.display.HTML object>"
            ]
          },
          "metadata": {},
          "output_type": "display_data"
        },
        {
          "data": {
            "text/html": [
              "Find logs at: <code>./wandb/run-20240304_085134-luah2d03/logs</code>"
            ],
            "text/plain": [
              "<IPython.core.display.HTML object>"
            ]
          },
          "metadata": {},
          "output_type": "display_data"
        },
        {
          "name": "stderr",
          "output_type": "stream",
          "text": [
            "\u001b[34m\u001b[1mwandb\u001b[0m: Agent Starting Run: pd6dml38 with config:\n",
            "\u001b[34m\u001b[1mwandb\u001b[0m: \tactivation: relu\n",
            "\u001b[34m\u001b[1mwandb\u001b[0m: \tepochs: 5\n",
            "\u001b[34m\u001b[1mwandb\u001b[0m: \thidden_size: 32\n",
            "\u001b[34m\u001b[1mwandb\u001b[0m: \tloss: cross_entropy\n"
          ]
        },
        {
          "data": {
            "text/html": [
              "Tracking run with wandb version 0.16.3"
            ],
            "text/plain": [
              "<IPython.core.display.HTML object>"
            ]
          },
          "metadata": {},
          "output_type": "display_data"
        },
        {
          "data": {
            "text/html": [
              "Run data is saved locally in <code>/content/wandb/run-20240304_085148-pd6dml38</code>"
            ],
            "text/plain": [
              "<IPython.core.display.HTML object>"
            ]
          },
          "metadata": {},
          "output_type": "display_data"
        },
        {
          "data": {
            "text/html": [
              "Syncing run <strong><a href='https://wandb.ai/cs22s015/DL_TA%28Ass_1%29/runs/pd6dml38' target=\"_blank\">vibrant-sweep-7</a></strong> to <a href='https://wandb.ai/cs22s015/DL_TA%28Ass_1%29' target=\"_blank\">Weights & Biases</a> (<a href='https://wandb.me/run' target=\"_blank\">docs</a>)<br/>Sweep page: <a href='https://wandb.ai/cs22s015/DL_TA%28Ass_1%29/sweeps/2f9yewzu' target=\"_blank\">https://wandb.ai/cs22s015/DL_TA%28Ass_1%29/sweeps/2f9yewzu</a>"
            ],
            "text/plain": [
              "<IPython.core.display.HTML object>"
            ]
          },
          "metadata": {},
          "output_type": "display_data"
        },
        {
          "data": {
            "text/html": [
              " View project at <a href='https://wandb.ai/cs22s015/DL_TA%28Ass_1%29' target=\"_blank\">https://wandb.ai/cs22s015/DL_TA%28Ass_1%29</a>"
            ],
            "text/plain": [
              "<IPython.core.display.HTML object>"
            ]
          },
          "metadata": {},
          "output_type": "display_data"
        },
        {
          "data": {
            "text/html": [
              " View sweep at <a href='https://wandb.ai/cs22s015/DL_TA%28Ass_1%29/sweeps/2f9yewzu' target=\"_blank\">https://wandb.ai/cs22s015/DL_TA%28Ass_1%29/sweeps/2f9yewzu</a>"
            ],
            "text/plain": [
              "<IPython.core.display.HTML object>"
            ]
          },
          "metadata": {},
          "output_type": "display_data"
        },
        {
          "data": {
            "text/html": [
              " View run at <a href='https://wandb.ai/cs22s015/DL_TA%28Ass_1%29/runs/pd6dml38' target=\"_blank\">https://wandb.ai/cs22s015/DL_TA%28Ass_1%29/runs/pd6dml38</a>"
            ],
            "text/plain": [
              "<IPython.core.display.HTML object>"
            ]
          },
          "metadata": {},
          "output_type": "display_data"
        },
        {
          "data": {
            "application/vnd.jupyter.widget-view+json": {
              "model_id": "743ee4d0db2242b09144d0138c0a85bc",
              "version_major": 2,
              "version_minor": 0
            },
            "text/plain": [
              "VBox(children=(Label(value='0.011 MB of 0.011 MB uploaded\\r'), FloatProgress(value=1.0, max=1.0)))"
            ]
          },
          "metadata": {},
          "output_type": "display_data"
        },
        {
          "data": {
            "text/html": [
              "<style>\n",
              "    table.wandb td:nth-child(1) { padding: 0 10px; text-align: left ; width: auto;} td:nth-child(2) {text-align: left ; width: 100%}\n",
              "    .wandb-row { display: flex; flex-direction: row; flex-wrap: wrap; justify-content: flex-start; width: 100% }\n",
              "    .wandb-col { display: flex; flex-direction: column; flex-basis: 100%; flex: 1; padding: 10px; }\n",
              "    </style>\n",
              "<div class=\"wandb-row\"><div class=\"wandb-col\"><h3>Run history:</h3><br/><table class=\"wandb\"><tr><td>epoch</td><td>▁▃▅▆█</td></tr><tr><td>train accuracy</td><td>▁▆▆▇█</td></tr><tr><td>train loss</td><td>█▇▅▃▁</td></tr><tr><td>val_accuracy</td><td>▁▆▆▇█</td></tr></table><br/></div><div class=\"wandb-col\"><h3>Run summary:</h3><br/><table class=\"wandb\"><tr><td>epoch</td><td>5</td></tr><tr><td>train accuracy</td><td>67.24792</td></tr><tr><td>train loss</td><td>1.32029</td></tr><tr><td>val_accuracy</td><td>66.70833</td></tr></table><br/></div></div>"
            ],
            "text/plain": [
              "<IPython.core.display.HTML object>"
            ]
          },
          "metadata": {},
          "output_type": "display_data"
        },
        {
          "data": {
            "text/html": [
              " View run <strong style=\"color:#cdcd00\">vibrant-sweep-7</strong> at: <a href='https://wandb.ai/cs22s015/DL_TA%28Ass_1%29/runs/pd6dml38' target=\"_blank\">https://wandb.ai/cs22s015/DL_TA%28Ass_1%29/runs/pd6dml38</a><br/>Synced 4 W&B file(s), 0 media file(s), 0 artifact file(s) and 0 other file(s)"
            ],
            "text/plain": [
              "<IPython.core.display.HTML object>"
            ]
          },
          "metadata": {},
          "output_type": "display_data"
        },
        {
          "data": {
            "text/html": [
              "Find logs at: <code>./wandb/run-20240304_085148-pd6dml38/logs</code>"
            ],
            "text/plain": [
              "<IPython.core.display.HTML object>"
            ]
          },
          "metadata": {},
          "output_type": "display_data"
        },
        {
          "name": "stderr",
          "output_type": "stream",
          "text": [
            "\u001b[34m\u001b[1mwandb\u001b[0m: Agent Starting Run: ews60a4v with config:\n",
            "\u001b[34m\u001b[1mwandb\u001b[0m: \tactivation: relu\n",
            "\u001b[34m\u001b[1mwandb\u001b[0m: \tepochs: 5\n",
            "\u001b[34m\u001b[1mwandb\u001b[0m: \thidden_size: 64\n",
            "\u001b[34m\u001b[1mwandb\u001b[0m: \tloss: cross_entropy\n"
          ]
        },
        {
          "data": {
            "text/html": [
              "Tracking run with wandb version 0.16.3"
            ],
            "text/plain": [
              "<IPython.core.display.HTML object>"
            ]
          },
          "metadata": {},
          "output_type": "display_data"
        },
        {
          "data": {
            "text/html": [
              "Run data is saved locally in <code>/content/wandb/run-20240304_085159-ews60a4v</code>"
            ],
            "text/plain": [
              "<IPython.core.display.HTML object>"
            ]
          },
          "metadata": {},
          "output_type": "display_data"
        },
        {
          "data": {
            "text/html": [
              "Syncing run <strong><a href='https://wandb.ai/cs22s015/DL_TA%28Ass_1%29/runs/ews60a4v' target=\"_blank\">flowing-sweep-8</a></strong> to <a href='https://wandb.ai/cs22s015/DL_TA%28Ass_1%29' target=\"_blank\">Weights & Biases</a> (<a href='https://wandb.me/run' target=\"_blank\">docs</a>)<br/>Sweep page: <a href='https://wandb.ai/cs22s015/DL_TA%28Ass_1%29/sweeps/2f9yewzu' target=\"_blank\">https://wandb.ai/cs22s015/DL_TA%28Ass_1%29/sweeps/2f9yewzu</a>"
            ],
            "text/plain": [
              "<IPython.core.display.HTML object>"
            ]
          },
          "metadata": {},
          "output_type": "display_data"
        },
        {
          "data": {
            "text/html": [
              " View project at <a href='https://wandb.ai/cs22s015/DL_TA%28Ass_1%29' target=\"_blank\">https://wandb.ai/cs22s015/DL_TA%28Ass_1%29</a>"
            ],
            "text/plain": [
              "<IPython.core.display.HTML object>"
            ]
          },
          "metadata": {},
          "output_type": "display_data"
        },
        {
          "data": {
            "text/html": [
              " View sweep at <a href='https://wandb.ai/cs22s015/DL_TA%28Ass_1%29/sweeps/2f9yewzu' target=\"_blank\">https://wandb.ai/cs22s015/DL_TA%28Ass_1%29/sweeps/2f9yewzu</a>"
            ],
            "text/plain": [
              "<IPython.core.display.HTML object>"
            ]
          },
          "metadata": {},
          "output_type": "display_data"
        },
        {
          "data": {
            "text/html": [
              " View run at <a href='https://wandb.ai/cs22s015/DL_TA%28Ass_1%29/runs/ews60a4v' target=\"_blank\">https://wandb.ai/cs22s015/DL_TA%28Ass_1%29/runs/ews60a4v</a>"
            ],
            "text/plain": [
              "<IPython.core.display.HTML object>"
            ]
          },
          "metadata": {},
          "output_type": "display_data"
        },
        {
          "data": {
            "application/vnd.jupyter.widget-view+json": {
              "model_id": "fa5c7db111294857ad160dbcf62fd9e6",
              "version_major": 2,
              "version_minor": 0
            },
            "text/plain": [
              "VBox(children=(Label(value='0.011 MB of 0.011 MB uploaded\\r'), FloatProgress(value=1.0, max=1.0)))"
            ]
          },
          "metadata": {},
          "output_type": "display_data"
        },
        {
          "data": {
            "text/html": [
              "<style>\n",
              "    table.wandb td:nth-child(1) { padding: 0 10px; text-align: left ; width: auto;} td:nth-child(2) {text-align: left ; width: 100%}\n",
              "    .wandb-row { display: flex; flex-direction: row; flex-wrap: wrap; justify-content: flex-start; width: 100% }\n",
              "    .wandb-col { display: flex; flex-direction: column; flex-basis: 100%; flex: 1; padding: 10px; }\n",
              "    </style>\n",
              "<div class=\"wandb-row\"><div class=\"wandb-col\"><h3>Run history:</h3><br/><table class=\"wandb\"><tr><td>epoch</td><td>▁▃▅▆█</td></tr><tr><td>train accuracy</td><td>▁▃▇▇█</td></tr><tr><td>train loss</td><td>█▆▄▃▁</td></tr><tr><td>val_accuracy</td><td>▁▃▇▇█</td></tr></table><br/></div><div class=\"wandb-col\"><h3>Run summary:</h3><br/><table class=\"wandb\"><tr><td>epoch</td><td>5</td></tr><tr><td>train accuracy</td><td>77.94792</td></tr><tr><td>train loss</td><td>1.04831</td></tr><tr><td>val_accuracy</td><td>78.3</td></tr></table><br/></div></div>"
            ],
            "text/plain": [
              "<IPython.core.display.HTML object>"
            ]
          },
          "metadata": {},
          "output_type": "display_data"
        },
        {
          "data": {
            "text/html": [
              " View run <strong style=\"color:#cdcd00\">flowing-sweep-8</strong> at: <a href='https://wandb.ai/cs22s015/DL_TA%28Ass_1%29/runs/ews60a4v' target=\"_blank\">https://wandb.ai/cs22s015/DL_TA%28Ass_1%29/runs/ews60a4v</a><br/>Synced 4 W&B file(s), 0 media file(s), 0 artifact file(s) and 0 other file(s)"
            ],
            "text/plain": [
              "<IPython.core.display.HTML object>"
            ]
          },
          "metadata": {},
          "output_type": "display_data"
        },
        {
          "data": {
            "text/html": [
              "Find logs at: <code>./wandb/run-20240304_085159-ews60a4v/logs</code>"
            ],
            "text/plain": [
              "<IPython.core.display.HTML object>"
            ]
          },
          "metadata": {},
          "output_type": "display_data"
        },
        {
          "name": "stderr",
          "output_type": "stream",
          "text": [
            "\u001b[34m\u001b[1mwandb\u001b[0m: Agent Starting Run: 4j677hld with config:\n",
            "\u001b[34m\u001b[1mwandb\u001b[0m: \tactivation: relu\n",
            "\u001b[34m\u001b[1mwandb\u001b[0m: \tepochs: 5\n",
            "\u001b[34m\u001b[1mwandb\u001b[0m: \thidden_size: 128\n",
            "\u001b[34m\u001b[1mwandb\u001b[0m: \tloss: cross_entropy\n"
          ]
        },
        {
          "data": {
            "text/html": [
              "Tracking run with wandb version 0.16.3"
            ],
            "text/plain": [
              "<IPython.core.display.HTML object>"
            ]
          },
          "metadata": {},
          "output_type": "display_data"
        },
        {
          "data": {
            "text/html": [
              "Run data is saved locally in <code>/content/wandb/run-20240304_085210-4j677hld</code>"
            ],
            "text/plain": [
              "<IPython.core.display.HTML object>"
            ]
          },
          "metadata": {},
          "output_type": "display_data"
        },
        {
          "data": {
            "text/html": [
              "Syncing run <strong><a href='https://wandb.ai/cs22s015/DL_TA%28Ass_1%29/runs/4j677hld' target=\"_blank\">crisp-sweep-9</a></strong> to <a href='https://wandb.ai/cs22s015/DL_TA%28Ass_1%29' target=\"_blank\">Weights & Biases</a> (<a href='https://wandb.me/run' target=\"_blank\">docs</a>)<br/>Sweep page: <a href='https://wandb.ai/cs22s015/DL_TA%28Ass_1%29/sweeps/2f9yewzu' target=\"_blank\">https://wandb.ai/cs22s015/DL_TA%28Ass_1%29/sweeps/2f9yewzu</a>"
            ],
            "text/plain": [
              "<IPython.core.display.HTML object>"
            ]
          },
          "metadata": {},
          "output_type": "display_data"
        },
        {
          "data": {
            "text/html": [
              " View project at <a href='https://wandb.ai/cs22s015/DL_TA%28Ass_1%29' target=\"_blank\">https://wandb.ai/cs22s015/DL_TA%28Ass_1%29</a>"
            ],
            "text/plain": [
              "<IPython.core.display.HTML object>"
            ]
          },
          "metadata": {},
          "output_type": "display_data"
        },
        {
          "data": {
            "text/html": [
              " View sweep at <a href='https://wandb.ai/cs22s015/DL_TA%28Ass_1%29/sweeps/2f9yewzu' target=\"_blank\">https://wandb.ai/cs22s015/DL_TA%28Ass_1%29/sweeps/2f9yewzu</a>"
            ],
            "text/plain": [
              "<IPython.core.display.HTML object>"
            ]
          },
          "metadata": {},
          "output_type": "display_data"
        },
        {
          "data": {
            "text/html": [
              " View run at <a href='https://wandb.ai/cs22s015/DL_TA%28Ass_1%29/runs/4j677hld' target=\"_blank\">https://wandb.ai/cs22s015/DL_TA%28Ass_1%29/runs/4j677hld</a>"
            ],
            "text/plain": [
              "<IPython.core.display.HTML object>"
            ]
          },
          "metadata": {},
          "output_type": "display_data"
        },
        {
          "data": {
            "application/vnd.jupyter.widget-view+json": {
              "model_id": "c7faa966143f4d9b85b802706b19634a",
              "version_major": 2,
              "version_minor": 0
            },
            "text/plain": [
              "VBox(children=(Label(value='0.011 MB of 0.011 MB uploaded\\r'), FloatProgress(value=1.0, max=1.0)))"
            ]
          },
          "metadata": {},
          "output_type": "display_data"
        },
        {
          "data": {
            "text/html": [
              "<style>\n",
              "    table.wandb td:nth-child(1) { padding: 0 10px; text-align: left ; width: auto;} td:nth-child(2) {text-align: left ; width: 100%}\n",
              "    .wandb-row { display: flex; flex-direction: row; flex-wrap: wrap; justify-content: flex-start; width: 100% }\n",
              "    .wandb-col { display: flex; flex-direction: column; flex-basis: 100%; flex: 1; padding: 10px; }\n",
              "    </style>\n",
              "<div class=\"wandb-row\"><div class=\"wandb-col\"><h3>Run history:</h3><br/><table class=\"wandb\"><tr><td>epoch</td><td>▁▃▅▆█</td></tr><tr><td>train accuracy</td><td>▁▆▇██</td></tr><tr><td>train loss</td><td>█▆▄▂▁</td></tr><tr><td>val_accuracy</td><td>▁▆▇██</td></tr></table><br/></div><div class=\"wandb-col\"><h3>Run summary:</h3><br/><table class=\"wandb\"><tr><td>epoch</td><td>5</td></tr><tr><td>train accuracy</td><td>81.42917</td></tr><tr><td>train loss</td><td>0.72648</td></tr><tr><td>val_accuracy</td><td>81.05833</td></tr></table><br/></div></div>"
            ],
            "text/plain": [
              "<IPython.core.display.HTML object>"
            ]
          },
          "metadata": {},
          "output_type": "display_data"
        },
        {
          "data": {
            "text/html": [
              " View run <strong style=\"color:#cdcd00\">crisp-sweep-9</strong> at: <a href='https://wandb.ai/cs22s015/DL_TA%28Ass_1%29/runs/4j677hld' target=\"_blank\">https://wandb.ai/cs22s015/DL_TA%28Ass_1%29/runs/4j677hld</a><br/>Synced 4 W&B file(s), 0 media file(s), 0 artifact file(s) and 0 other file(s)"
            ],
            "text/plain": [
              "<IPython.core.display.HTML object>"
            ]
          },
          "metadata": {},
          "output_type": "display_data"
        },
        {
          "data": {
            "text/html": [
              "Find logs at: <code>./wandb/run-20240304_085210-4j677hld/logs</code>"
            ],
            "text/plain": [
              "<IPython.core.display.HTML object>"
            ]
          },
          "metadata": {},
          "output_type": "display_data"
        },
        {
          "name": "stderr",
          "output_type": "stream",
          "text": [
            "\u001b[34m\u001b[1mwandb\u001b[0m: Agent Starting Run: ofne6qrm with config:\n",
            "\u001b[34m\u001b[1mwandb\u001b[0m: \tactivation: relu\n",
            "\u001b[34m\u001b[1mwandb\u001b[0m: \tepochs: 10\n",
            "\u001b[34m\u001b[1mwandb\u001b[0m: \thidden_size: 32\n",
            "\u001b[34m\u001b[1mwandb\u001b[0m: \tloss: cross_entropy\n"
          ]
        },
        {
          "data": {
            "text/html": [
              "Tracking run with wandb version 0.16.3"
            ],
            "text/plain": [
              "<IPython.core.display.HTML object>"
            ]
          },
          "metadata": {},
          "output_type": "display_data"
        },
        {
          "data": {
            "text/html": [
              "Run data is saved locally in <code>/content/wandb/run-20240304_085225-ofne6qrm</code>"
            ],
            "text/plain": [
              "<IPython.core.display.HTML object>"
            ]
          },
          "metadata": {},
          "output_type": "display_data"
        },
        {
          "data": {
            "text/html": [
              "Syncing run <strong><a href='https://wandb.ai/cs22s015/DL_TA%28Ass_1%29/runs/ofne6qrm' target=\"_blank\">confused-sweep-10</a></strong> to <a href='https://wandb.ai/cs22s015/DL_TA%28Ass_1%29' target=\"_blank\">Weights & Biases</a> (<a href='https://wandb.me/run' target=\"_blank\">docs</a>)<br/>Sweep page: <a href='https://wandb.ai/cs22s015/DL_TA%28Ass_1%29/sweeps/2f9yewzu' target=\"_blank\">https://wandb.ai/cs22s015/DL_TA%28Ass_1%29/sweeps/2f9yewzu</a>"
            ],
            "text/plain": [
              "<IPython.core.display.HTML object>"
            ]
          },
          "metadata": {},
          "output_type": "display_data"
        },
        {
          "data": {
            "text/html": [
              " View project at <a href='https://wandb.ai/cs22s015/DL_TA%28Ass_1%29' target=\"_blank\">https://wandb.ai/cs22s015/DL_TA%28Ass_1%29</a>"
            ],
            "text/plain": [
              "<IPython.core.display.HTML object>"
            ]
          },
          "metadata": {},
          "output_type": "display_data"
        },
        {
          "data": {
            "text/html": [
              " View sweep at <a href='https://wandb.ai/cs22s015/DL_TA%28Ass_1%29/sweeps/2f9yewzu' target=\"_blank\">https://wandb.ai/cs22s015/DL_TA%28Ass_1%29/sweeps/2f9yewzu</a>"
            ],
            "text/plain": [
              "<IPython.core.display.HTML object>"
            ]
          },
          "metadata": {},
          "output_type": "display_data"
        },
        {
          "data": {
            "text/html": [
              " View run at <a href='https://wandb.ai/cs22s015/DL_TA%28Ass_1%29/runs/ofne6qrm' target=\"_blank\">https://wandb.ai/cs22s015/DL_TA%28Ass_1%29/runs/ofne6qrm</a>"
            ],
            "text/plain": [
              "<IPython.core.display.HTML object>"
            ]
          },
          "metadata": {},
          "output_type": "display_data"
        },
        {
          "data": {
            "application/vnd.jupyter.widget-view+json": {
              "model_id": "7bc4d350ff964112963182741cc328fd",
              "version_major": 2,
              "version_minor": 0
            },
            "text/plain": [
              "VBox(children=(Label(value='0.011 MB of 0.011 MB uploaded\\r'), FloatProgress(value=1.0, max=1.0)))"
            ]
          },
          "metadata": {},
          "output_type": "display_data"
        },
        {
          "data": {
            "text/html": [
              "<style>\n",
              "    table.wandb td:nth-child(1) { padding: 0 10px; text-align: left ; width: auto;} td:nth-child(2) {text-align: left ; width: 100%}\n",
              "    .wandb-row { display: flex; flex-direction: row; flex-wrap: wrap; justify-content: flex-start; width: 100% }\n",
              "    .wandb-col { display: flex; flex-direction: column; flex-basis: 100%; flex: 1; padding: 10px; }\n",
              "    </style>\n",
              "<div class=\"wandb-row\"><div class=\"wandb-col\"><h3>Run history:</h3><br/><table class=\"wandb\"><tr><td>epoch</td><td>▁▂▃▃▄▅▆▆▇█</td></tr><tr><td>train accuracy</td><td>▁▃▅▆▆▇████</td></tr><tr><td>train loss</td><td>█▇▆▅▄▃▂▂▁▁</td></tr><tr><td>val_accuracy</td><td>▁▃▅▆▆▇████</td></tr></table><br/></div><div class=\"wandb-col\"><h3>Run summary:</h3><br/><table class=\"wandb\"><tr><td>epoch</td><td>10</td></tr><tr><td>train accuracy</td><td>83.53125</td></tr><tr><td>train loss</td><td>0.61643</td></tr><tr><td>val_accuracy</td><td>83.325</td></tr></table><br/></div></div>"
            ],
            "text/plain": [
              "<IPython.core.display.HTML object>"
            ]
          },
          "metadata": {},
          "output_type": "display_data"
        },
        {
          "data": {
            "text/html": [
              " View run <strong style=\"color:#cdcd00\">confused-sweep-10</strong> at: <a href='https://wandb.ai/cs22s015/DL_TA%28Ass_1%29/runs/ofne6qrm' target=\"_blank\">https://wandb.ai/cs22s015/DL_TA%28Ass_1%29/runs/ofne6qrm</a><br/>Synced 4 W&B file(s), 0 media file(s), 0 artifact file(s) and 0 other file(s)"
            ],
            "text/plain": [
              "<IPython.core.display.HTML object>"
            ]
          },
          "metadata": {},
          "output_type": "display_data"
        },
        {
          "data": {
            "text/html": [
              "Find logs at: <code>./wandb/run-20240304_085225-ofne6qrm/logs</code>"
            ],
            "text/plain": [
              "<IPython.core.display.HTML object>"
            ]
          },
          "metadata": {},
          "output_type": "display_data"
        }
      ],
      "source": [
        "def main():\n",
        "    '''\n",
        "    WandB calls main function each time with differnet combination.\n",
        "\n",
        "    We can retrive the same and use the same values for our hypermeters.\n",
        "\n",
        "    '''\n",
        "\n",
        "\n",
        "    with wandb.init() as run:\n",
        "\n",
        "        run_name=\"-ac_\"+wandb.config.activation+\"-hs\"+str(wandb.config.hidden_size)\n",
        "        wandb.run.name=run_name\n",
        "        #obj=NN(wandb.config['num_layers'],wandb.config['hidden_size'])\n",
        "\n",
        "        model = SimpleNN(784,10,wandb.config)\n",
        "        criterion = nn.CrossEntropyLoss()\n",
        "        optimizer = optim.Adam(model.parameters(), lr=0.01,betas=(0.9, 0.999))\n",
        "        model.train( model,criterion,optimizer,x_train,y_train,x_val,y_val)\n",
        "\n",
        "\n",
        "wandb.agent(sweep_id, function=main,count=10) # calls main function for count number of times.\n",
        "wandb.finish()"
      ]
    }
  ],
  "metadata": {
    "colab": {
      "provenance": [],
      "authorship_tag": "ABX9TyOFDOVIScNST7YlyMtVhKCL",
      "include_colab_link": true
    },
    "kernelspec": {
      "display_name": "Python 3",
      "name": "python3"
    },
    "language_info": {
      "name": "python"
    }
  },
  "nbformat": 4,
  "nbformat_minor": 0
}