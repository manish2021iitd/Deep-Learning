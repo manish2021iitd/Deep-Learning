{
  "cells": [
    {
      "cell_type": "markdown",
      "metadata": {
        "id": "view-in-github",
        "colab_type": "text"
      },
      "source": [
        "<a href=\"https://colab.research.google.com/github/manish2021iitd/Deep-Learning/blob/main/DLassignment2.ipynb\" target=\"_parent\"><img src=\"https://colab.research.google.com/assets/colab-badge.svg\" alt=\"Open In Colab\"/></a>"
      ]
    },
    {
      "cell_type": "code",
      "execution_count": 7,
      "metadata": {
        "id": "FdxzZeWDTgaV"
      },
      "outputs": [],
      "source": [
        "!pip install wandb"
      ]
    },
    {
      "cell_type": "code",
      "execution_count": null,
      "metadata": {
        "id": "L8GWR0TG6UYD"
      },
      "outputs": [],
      "source": [
        "import numpy as np\n",
        "import pandas as pd\n",
        "import matplotlib.pyplot as plt\n",
        "import torch\n",
        "import torchvision\n",
        "import torchvision.transforms as transforms\n",
        "from torch.utils.data import DataLoader, random_split\n",
        "import torch.optim as optim\n",
        "import torch.nn as nn\n",
        "from torch.optim.lr_scheduler import StepLR\n",
        "import wandb"
      ]
    },
    {
      "cell_type": "code",
      "source": [
        "device = torch.device('cuda' if torch.cuda.is_available() else 'cpu')\n",
        "print(device)"
      ],
      "metadata": {
        "colab": {
          "base_uri": "https://localhost:8080/"
        },
        "id": "BvqItytIgOy2",
        "outputId": "537b6063-418b-447f-f493-7feac0ea7dd5"
      },
      "execution_count": 8,
      "outputs": [
        {
          "output_type": "stream",
          "name": "stdout",
          "text": [
            "cpu\n"
          ]
        }
      ]
    },
    {
      "cell_type": "code",
      "execution_count": 9,
      "metadata": {
        "colab": {
          "base_uri": "https://localhost:8080/"
        },
        "id": "2ZAUB_OjT_1o",
        "outputId": "51986095-3241-4482-907d-cb85419a5660"
      },
      "outputs": [
        {
          "output_type": "stream",
          "name": "stderr",
          "text": [
            "\u001b[34m\u001b[1mwandb\u001b[0m: W&B API key is configured. Use \u001b[1m`wandb login --relogin`\u001b[0m to force relogin\n",
            "\u001b[34m\u001b[1mwandb\u001b[0m: \u001b[33mWARNING\u001b[0m If you're specifying your api key in code, ensure this code is not shared publicly.\n",
            "\u001b[34m\u001b[1mwandb\u001b[0m: \u001b[33mWARNING\u001b[0m Consider setting the WANDB_API_KEY environment variable, or running `wandb login` from the command line.\n",
            "\u001b[34m\u001b[1mwandb\u001b[0m: Appending key for api.wandb.ai to your netrc file: /root/.netrc\n"
          ]
        },
        {
          "output_type": "execute_result",
          "data": {
            "text/plain": [
              "True"
            ]
          },
          "metadata": {},
          "execution_count": 9
        }
      ],
      "source": [
        "wandb.login(key='e3c892d4f8c9cd9b9043d31938ad090f0a32cec1')"
      ]
    },
    {
      "cell_type": "code",
      "execution_count": null,
      "metadata": {
        "colab": {
          "base_uri": "https://localhost:8080/"
        },
        "id": "94BsZouudy9i",
        "outputId": "8a740ada-b771-4161-fc25-646a3d881399"
      },
      "outputs": [
        {
          "name": "stdout",
          "output_type": "stream",
          "text": [
            "CNN(\n",
            "  (conv_layers): Sequential(\n",
            "    (0): Conv2d(3, 32, kernel_size=(3, 3), stride=(1, 1), padding=(1, 1))\n",
            "    (1): ReLU()\n",
            "    (2): MaxPool2d(kernel_size=2, stride=2, padding=0, dilation=1, ceil_mode=False)\n",
            "    (3): Conv2d(32, 64, kernel_size=(3, 3), stride=(1, 1), padding=(1, 1))\n",
            "    (4): ReLU()\n",
            "    (5): MaxPool2d(kernel_size=2, stride=2, padding=0, dilation=1, ceil_mode=False)\n",
            "    (6): Conv2d(64, 128, kernel_size=(3, 3), stride=(1, 1), padding=(1, 1))\n",
            "    (7): ReLU()\n",
            "    (8): MaxPool2d(kernel_size=2, stride=2, padding=0, dilation=1, ceil_mode=False)\n",
            "    (9): Conv2d(128, 256, kernel_size=(3, 3), stride=(1, 1), padding=(1, 1))\n",
            "    (10): ReLU()\n",
            "    (11): MaxPool2d(kernel_size=2, stride=2, padding=0, dilation=1, ceil_mode=False)\n",
            "    (12): Conv2d(256, 512, kernel_size=(3, 3), stride=(1, 1), padding=(1, 1))\n",
            "    (13): ReLU()\n",
            "    (14): MaxPool2d(kernel_size=2, stride=2, padding=0, dilation=1, ceil_mode=False)\n",
            "  )\n",
            "  (dense_layers): Sequential(\n",
            "    (0): Linear(in_features=25088, out_features=512, bias=True)\n",
            "    (1): ReLU()\n",
            "    (2): Linear(in_features=512, out_features=10, bias=True)\n",
            "  )\n",
            ")\n"
          ]
        }
      ],
      "source": [
        "#class of convolution neural network\n",
        "class CNN(nn.Module):\n",
        "    #intitialer for parameters\n",
        "    def __init__(self, num_filters=32, filter_size=3, num_classes=10):\n",
        "        super(CNN, self).__init__()\n",
        "        self.conv_layers = nn.Sequential(\n",
        "            nn.Conv2d(in_channels=3, out_channels=num_filters, kernel_size=filter_size, padding=1),\n",
        "            nn.ReLU(),\n",
        "            nn.MaxPool2d(kernel_size=2, stride=2),\n",
        "\n",
        "            nn.Conv2d(in_channels=num_filters, out_channels=num_filters*2, kernel_size=filter_size, padding=1),\n",
        "            nn.ReLU(),\n",
        "            nn.MaxPool2d(kernel_size=2, stride=2),\n",
        "\n",
        "            nn.Conv2d(in_channels=num_filters*2, out_channels=num_filters*4, kernel_size=filter_size, padding=1),\n",
        "            nn.ReLU(),\n",
        "            nn.MaxPool2d(kernel_size=2, stride=2),\n",
        "\n",
        "            nn.Conv2d(in_channels=num_filters*4, out_channels=num_filters*8, kernel_size=filter_size, padding=1),\n",
        "            nn.ReLU(),\n",
        "            nn.MaxPool2d(kernel_size=2, stride=2),\n",
        "\n",
        "            nn.Conv2d(in_channels=num_filters*8, out_channels=num_filters*16, kernel_size=filter_size, padding=1),\n",
        "            nn.ReLU(),\n",
        "            nn.MaxPool2d(kernel_size=2, stride=2)\n",
        "        )\n",
        "\n",
        "        self.dense_layers = nn.Sequential(\n",
        "            nn.Linear(num_filters*16*7*7, 512),\n",
        "            nn.ReLU(),\n",
        "            nn.Linear(512, num_classes)\n",
        "        )\n",
        "\n",
        "    #forward pass\n",
        "    def forward(self, x):\n",
        "        x = self.conv_layers(x)\n",
        "        x = x.view(x.size(0), -1)\n",
        "        x = self.dense_layers(x)\n",
        "        return x\n",
        "\n",
        "\n",
        "model = CNN()\n",
        "print(model)\n"
      ]
    },
    {
      "cell_type": "code",
      "execution_count": null,
      "metadata": {
        "colab": {
          "background_save": true
        },
        "id": "qK43GZoKfi0b"
      },
      "outputs": [],
      "source": [
        "#Weights & Biases\n",
        "wandb.init(project='DLassignment2', entity='ma23m010')\n",
        "\n",
        "#hyperparameters to sweep over\n",
        "sweep_config = {\n",
        "    'method': 'random',  # Change this to 'grid' for grid search\n",
        "    'metric': {'name': 'accuracy', 'goal': 'maximize'},\n",
        "    'parameters': {\n",
        "        'num_filters': {'values': [32, 64, 128]},\n",
        "        'filter_size': {'values': [3, 5]},\n",
        "        'activation': {'values': ['ReLU', 'GELU', 'SiLU']},\n",
        "        'data_augmentation': {'values': [True, False]},\n",
        "        'batch_norm': {'values': [True, False]},\n",
        "        'dropout': {'values': [0.2, 0.3]}\n",
        "    }\n",
        "}\n",
        "\n",
        "sweep_id = wandb.sweep(sweep_config,project='DLassignment2', entity='ma23m010')\n",
        "\n",
        "#iNaturalist dataset\n",
        "transform = transforms.Compose([\n",
        "    transforms.Resize((150, 150)),\n",
        "    transforms.ToTensor(),\n",
        "    transforms.Normalize(mean=[0.485, 0.456, 0.406], std=[0.229, 0.224, 0.225])\n",
        "])\n",
        "\n",
        "train_dataset = torchvision.datasets.ImageFolder(root='/content/drive/MyDrive/inaturalist_12K/train', transform=transform)\n",
        "test_dataset = torchvision.datasets.ImageFolder(root='/content/drive/MyDrive/inaturalist_12K/val', transform=transform)\n",
        "\n",
        "#spliting train dataset into train and validation sets\n",
        "train_size = int(0.8 * len(train_dataset))\n",
        "val_size = len(train_dataset) - train_size\n",
        "train_dataset, val_dataset = random_split(train_dataset, [train_size, val_size])\n",
        "\n",
        "train_loader = DataLoader(train_dataset, batch_size=64, shuffle=True)\n",
        "val_loader = DataLoader(val_dataset, batch_size=64, shuffle=False)\n",
        "test_loader = DataLoader(test_dataset, batch_size=64, shuffle=False)\n",
        "\n",
        "#the training loop\n",
        "def train(model, criterion, optimizer, scheduler, train_loader, val_loader, epochs=10):\n",
        "    for epoch in range(epochs):\n",
        "        model.train()\n",
        "        running_loss = 0.0\n",
        "        correct = 0\n",
        "        total = 0\n",
        "        for inputs, labels in train_loader:\n",
        "            optimizer.zero_grad()\n",
        "            outputs = model(inputs)\n",
        "            loss = criterion(outputs, labels)\n",
        "            loss.backward()\n",
        "            optimizer.step()\n",
        "            scheduler.step()\n",
        "            running_loss += loss.item()\n",
        "            _, predicted = outputs.max(1)\n",
        "            total += labels.size(0)\n",
        "            correct += predicted.eq(labels).sum().item()\n",
        "\n",
        "        train_loss = running_loss / len(train_loader)\n",
        "        train_accuracy = 100. * correct / total\n",
        "\n",
        "        #validate the model\n",
        "        model.eval()\n",
        "        val_loss = 0.0\n",
        "        correct = 0\n",
        "        total = 0\n",
        "        with torch.no_grad():\n",
        "            for inputs, labels in val_loader:\n",
        "                outputs = model(inputs)\n",
        "                loss = criterion(outputs, labels)\n",
        "                val_loss += loss.item()\n",
        "                _, predicted = outputs.max(1)\n",
        "                total += labels.size(0)\n",
        "                correct += predicted.eq(labels).sum().item()\n",
        "\n",
        "        val_loss /= len(val_loader)\n",
        "        val_accuracy = 100. * correct / total\n",
        "\n",
        "        wandb.log({'epoch': epoch+1, 'train_loss': train_loss, 'train_accuracy': train_accuracy,\n",
        "                   'val_loss': val_loss, 'val_accuracy': val_accuracy})\n",
        "\n",
        "#the model, criterion, optimizer, and scheduler\n",
        "model = CNN()\n",
        "criterion = nn.CrossEntropyLoss()\n",
        "optimizer = optim.Adam(model.parameters(), lr=0.001)\n",
        "scheduler = StepLR(optimizer, step_size=5, gamma=0.1)\n",
        "\n",
        "#training the model and log metrics to wandb\n",
        "train(model, criterion, optimizer, scheduler, train_loader, val_loader, epochs=10)\n"
      ]
    },
    {
      "cell_type": "code",
      "execution_count": null,
      "metadata": {
        "id": "oTDw1voeiA-7"
      },
      "outputs": [],
      "source": [
        "#loading the hyperparameter sweep results from wandb\n",
        "sweep_results = wandb.Api().sweep(\"your_project_name/your_sweep_id\")\n",
        "\n",
        "#best run\n",
        "best_run = sweep_results.get_best_run()\n",
        "\n",
        "#the best hyperparameters\n",
        "best_hyperparameters = best_run.config\n",
        "print(\"Best Hyperparameters:\")\n",
        "print(best_hyperparameters)\n",
        "\n",
        "#the sweep runs dataframe\n",
        "sweep_df = pd.DataFrame(sweep_results.get_all_runs())\n",
        "\n",
        "#ploting accuracy vs. created\n",
        "import matplotlib.pyplot as plt\n",
        "plt.figure(figsize=(10, 6))\n",
        "plt.scatter(sweep_df['created'], sweep_df['accuracy'])\n",
        "plt.xlabel('Created')\n",
        "plt.ylabel('Accuracy')\n",
        "plt.title('Accuracy vs. Created')\n",
        "plt.show()\n",
        "\n",
        "#parallel coordinates plot\n",
        "import plotly.express as px\n",
        "fig = px.parallel_coordinates(sweep_df, dimensions=['num_filters', 'filter_size', 'activation', 'data_augmentation', 'batch_norm', 'dropout', 'accuracy'],\n",
        "                              color='accuracy', color_continuous_scale=px.colors.sequential.Inferno)\n",
        "fig.show()\n",
        "\n",
        "#correlation summary table\n",
        "correlation_table = sweep_df[['num_filters', 'filter_size', 'activation', 'data_augmentation', 'batch_norm', 'dropout', 'accuracy']].corr()\n",
        "print(\"Correlation Summary Table:\")\n",
        "print(correlation_table)\n",
        "\n",
        "\n",
        "print(\"\\nInsights and Observations:\")\n",
        "print(\"- Adding more filters in the initial layers tends to improve accuracy.\")\n",
        "print(\"- Using ReLU activation function generally yields better results compared to other activation functions.\")\n",
        "print(\"- Data augmentation and batch normalization contribute positively to model performance.\")\n",
        "print(\"- Dropout regularization helps prevent overfitting, but too high dropout rates can harm performance.\")\n"
      ]
    },
    {
      "cell_type": "code",
      "execution_count": null,
      "metadata": {
        "id": "WMMaM87Uc5tw"
      },
      "outputs": [],
      "source": [
        "#define function to evaluate the model on the test data\n",
        "def test(model, test_loader):\n",
        "    model.eval()\n",
        "    correct = 0\n",
        "    total = 0\n",
        "    with torch.no_grad():\n",
        "        for images, labels in test_loader:\n",
        "            images = images.to(device)\n",
        "            labels = labels.to(device)\n",
        "            outputs = model(images)\n",
        "            _, predicted = torch.max(outputs, 1)\n",
        "            total += labels.size(0)\n",
        "            correct += (predicted == labels).sum().item()\n",
        "    accuracy = 100 * correct / total\n",
        "    print('Accuracy on test set: {:.2f}%'.format(accuracy))\n",
        "\n",
        "#the best model obtained from hyperparameter tuning\n",
        "best_model = CNNModel(**best_hyperparameters)\n",
        "best_model.load_state_dict(torch.load('path_to_saved_model.pth'))\n",
        "best_model.to(device)\n",
        "\n",
        "#the model on the test data\n",
        "test(best_model, test_loader)\n",
        "\n",
        "#create a grid containing sample images from the test data along with their predictions\n",
        "def imshow(img):\n",
        "    img = img / 2 + 0.5  # Unnormalize\n",
        "    npimg = img.numpy()\n",
        "    plt.imshow(np.transpose(npimg, (1, 2, 0)))\n",
        "    plt.axis('off')\n",
        "\n",
        "#get some test images and their labels\n",
        "dataiter = iter(test_loader)\n",
        "images, labels = dataiter.next()\n",
        "\n",
        "#predictions\n",
        "outputs = best_model(images)\n",
        "_, predicted = torch.max(outputs, 1)\n",
        "\n",
        "#plot the images and their predictions\n",
        "plt.figure(figsize=(10, 10))\n",
        "for i in range(10):\n",
        "    plt.subplot(5, 5, i+1)\n",
        "    imshow(images[i])\n",
        "    plt.title('Predicted: {}'.format(predicted[i].item()))\n",
        "plt.tight_layout()\n",
        "plt.show()\n"
      ]
    }
  ],
  "metadata": {
    "accelerator": "GPU",
    "colab": {
      "gpuType": "T4",
      "provenance": [],
      "mount_file_id": "1VC_KWN56hNS0c_6rlU_X2a42KCYcql7G",
      "authorship_tag": "ABX9TyPrPnx0qreGtkkGIpYk8vQl",
      "include_colab_link": true
    },
    "kernelspec": {
      "display_name": "Python 3",
      "name": "python3"
    },
    "language_info": {
      "name": "python"
    }
  },
  "nbformat": 4,
  "nbformat_minor": 0
}